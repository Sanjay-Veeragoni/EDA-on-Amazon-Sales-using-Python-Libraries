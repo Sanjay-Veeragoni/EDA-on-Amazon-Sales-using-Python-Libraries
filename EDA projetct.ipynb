{
 "cells": [
  {
   "cell_type": "markdown",
   "id": "71d0364c-f9ed-4e3a-8933-7d4ec6d79530",
   "metadata": {},
   "source": [
    "# IMPORT LIBRARIES\n"
   ]
  },
  {
   "cell_type": "code",
   "execution_count": 1,
   "id": "c06ade4c-ae76-4cd0-a521-cb1edf09058b",
   "metadata": {},
   "outputs": [],
   "source": [
    "import pandas as pd\n",
    "import numpy as np"
   ]
  },
  {
   "cell_type": "markdown",
   "id": "d9268eb0-3080-4b6d-88f4-eb4d981d021a",
   "metadata": {},
   "source": [
    "# LOADING FILES "
   ]
  },
  {
   "cell_type": "code",
   "execution_count": 2,
   "id": "9c4b3877-d32e-4df7-b010-552c7a89b6b6",
   "metadata": {},
   "outputs": [],
   "source": [
    "\n",
    "df=pd.read_csv(\"project.csv\")"
   ]
  },
  {
   "cell_type": "code",
   "execution_count": 3,
   "id": "2e9bfe18-3a93-40f3-8b23-6399a6932549",
   "metadata": {},
   "outputs": [
    {
     "data": {
      "text/html": [
       "<div>\n",
       "<style scoped>\n",
       "    .dataframe tbody tr th:only-of-type {\n",
       "        vertical-align: middle;\n",
       "    }\n",
       "\n",
       "    .dataframe tbody tr th {\n",
       "        vertical-align: top;\n",
       "    }\n",
       "\n",
       "    .dataframe thead th {\n",
       "        text-align: right;\n",
       "    }\n",
       "</style>\n",
       "<table border=\"1\" class=\"dataframe\">\n",
       "  <thead>\n",
       "    <tr style=\"text-align: right;\">\n",
       "      <th></th>\n",
       "      <th>InvoiceNo</th>\n",
       "      <th>StockCode</th>\n",
       "      <th>Description</th>\n",
       "      <th>Quantity</th>\n",
       "      <th>InvoiceDate</th>\n",
       "      <th>UnitPrice</th>\n",
       "      <th>CustomerID</th>\n",
       "      <th>Country</th>\n",
       "    </tr>\n",
       "  </thead>\n",
       "  <tbody>\n",
       "    <tr>\n",
       "      <th>0</th>\n",
       "      <td>INV-694015</td>\n",
       "      <td>SC-4038</td>\n",
       "      <td>LED Lights</td>\n",
       "      <td>46</td>\n",
       "      <td>2024-12-17</td>\n",
       "      <td>52.62</td>\n",
       "      <td>CUST-73316</td>\n",
       "      <td>USA</td>\n",
       "    </tr>\n",
       "    <tr>\n",
       "      <th>1</th>\n",
       "      <td>INV-469079</td>\n",
       "      <td>SC-2603</td>\n",
       "      <td>Santa Hat</td>\n",
       "      <td>27</td>\n",
       "      <td>2024-12-28</td>\n",
       "      <td>98.10</td>\n",
       "      <td>CUST-61708</td>\n",
       "      <td>USA</td>\n",
       "    </tr>\n",
       "    <tr>\n",
       "      <th>2</th>\n",
       "      <td>INV-272871</td>\n",
       "      <td>SC-9683</td>\n",
       "      <td>Santa Hat</td>\n",
       "      <td>7</td>\n",
       "      <td>2024-12-26</td>\n",
       "      <td>94.04</td>\n",
       "      <td>CUST-60546</td>\n",
       "      <td>USA</td>\n",
       "    </tr>\n",
       "    <tr>\n",
       "      <th>3</th>\n",
       "      <td>INV-748096</td>\n",
       "      <td>SC-4222</td>\n",
       "      <td>Christmas Tree</td>\n",
       "      <td>10</td>\n",
       "      <td>2024-12-09</td>\n",
       "      <td>80.73</td>\n",
       "      <td>CUST-48419</td>\n",
       "      <td>USA</td>\n",
       "    </tr>\n",
       "    <tr>\n",
       "      <th>4</th>\n",
       "      <td>INV-162397</td>\n",
       "      <td>SC-1628</td>\n",
       "      <td>Christmas Tree</td>\n",
       "      <td>46</td>\n",
       "      <td>2024-12-19</td>\n",
       "      <td>62.36</td>\n",
       "      <td>CUST-78370</td>\n",
       "      <td>USA</td>\n",
       "    </tr>\n",
       "    <tr>\n",
       "      <th>...</th>\n",
       "      <td>...</td>\n",
       "      <td>...</td>\n",
       "      <td>...</td>\n",
       "      <td>...</td>\n",
       "      <td>...</td>\n",
       "      <td>...</td>\n",
       "      <td>...</td>\n",
       "      <td>...</td>\n",
       "    </tr>\n",
       "    <tr>\n",
       "      <th>99995</th>\n",
       "      <td>INV-918375</td>\n",
       "      <td>SC-4046</td>\n",
       "      <td>Gift Wrap</td>\n",
       "      <td>4</td>\n",
       "      <td>2024-12-31</td>\n",
       "      <td>50.56</td>\n",
       "      <td>CUST-50152</td>\n",
       "      <td>USA</td>\n",
       "    </tr>\n",
       "    <tr>\n",
       "      <th>99996</th>\n",
       "      <td>INV-623708</td>\n",
       "      <td>SC-9483</td>\n",
       "      <td>Ornaments</td>\n",
       "      <td>7</td>\n",
       "      <td>2024-12-19</td>\n",
       "      <td>55.49</td>\n",
       "      <td>CUST-11412</td>\n",
       "      <td>USA</td>\n",
       "    </tr>\n",
       "    <tr>\n",
       "      <th>99997</th>\n",
       "      <td>INV-296024</td>\n",
       "      <td>SC-8331</td>\n",
       "      <td>Snowman Figure</td>\n",
       "      <td>27</td>\n",
       "      <td>2024-12-14</td>\n",
       "      <td>84.92</td>\n",
       "      <td>CUST-89837</td>\n",
       "      <td>USA</td>\n",
       "    </tr>\n",
       "    <tr>\n",
       "      <th>99998</th>\n",
       "      <td>INV-250807</td>\n",
       "      <td>SC-7893</td>\n",
       "      <td>Gift Wrap</td>\n",
       "      <td>34</td>\n",
       "      <td>2024-12-18</td>\n",
       "      <td>67.56</td>\n",
       "      <td>CUST-22213</td>\n",
       "      <td>USA</td>\n",
       "    </tr>\n",
       "    <tr>\n",
       "      <th>99999</th>\n",
       "      <td>INV-971958</td>\n",
       "      <td>SC-5497</td>\n",
       "      <td>Gift Wrap</td>\n",
       "      <td>16</td>\n",
       "      <td>2024-12-13</td>\n",
       "      <td>99.67</td>\n",
       "      <td>CUST-20894</td>\n",
       "      <td>USA</td>\n",
       "    </tr>\n",
       "  </tbody>\n",
       "</table>\n",
       "<p>100000 rows × 8 columns</p>\n",
       "</div>"
      ],
      "text/plain": [
       "        InvoiceNo StockCode     Description  Quantity InvoiceDate  UnitPrice  \\\n",
       "0      INV-694015   SC-4038      LED Lights        46  2024-12-17      52.62   \n",
       "1      INV-469079   SC-2603       Santa Hat        27  2024-12-28      98.10   \n",
       "2      INV-272871   SC-9683       Santa Hat         7  2024-12-26      94.04   \n",
       "3      INV-748096   SC-4222  Christmas Tree        10  2024-12-09      80.73   \n",
       "4      INV-162397   SC-1628  Christmas Tree        46  2024-12-19      62.36   \n",
       "...           ...       ...             ...       ...         ...        ...   \n",
       "99995  INV-918375   SC-4046       Gift Wrap         4  2024-12-31      50.56   \n",
       "99996  INV-623708   SC-9483       Ornaments         7  2024-12-19      55.49   \n",
       "99997  INV-296024   SC-8331  Snowman Figure        27  2024-12-14      84.92   \n",
       "99998  INV-250807   SC-7893       Gift Wrap        34  2024-12-18      67.56   \n",
       "99999  INV-971958   SC-5497       Gift Wrap        16  2024-12-13      99.67   \n",
       "\n",
       "       CustomerID Country  \n",
       "0      CUST-73316     USA  \n",
       "1      CUST-61708     USA  \n",
       "2      CUST-60546     USA  \n",
       "3      CUST-48419     USA  \n",
       "4      CUST-78370     USA  \n",
       "...           ...     ...  \n",
       "99995  CUST-50152     USA  \n",
       "99996  CUST-11412     USA  \n",
       "99997  CUST-89837     USA  \n",
       "99998  CUST-22213     USA  \n",
       "99999  CUST-20894     USA  \n",
       "\n",
       "[100000 rows x 8 columns]"
      ]
     },
     "execution_count": 3,
     "metadata": {},
     "output_type": "execute_result"
    }
   ],
   "source": [
    "df\n"
   ]
  },
  {
   "cell_type": "markdown",
   "id": "5a18a836-204f-45bc-b4f1-97a3f0022823",
   "metadata": {},
   "source": [
    "# NO OF ROWS AND COLUMNS\n"
   ]
  },
  {
   "cell_type": "code",
   "execution_count": 4,
   "id": "0b919ca3-cb5e-47af-8eaa-958969719a6a",
   "metadata": {},
   "outputs": [
    {
     "data": {
      "text/plain": [
       "(100000, 8)"
      ]
     },
     "execution_count": 4,
     "metadata": {},
     "output_type": "execute_result"
    }
   ],
   "source": [
    "df.shape"
   ]
  },
  {
   "cell_type": "markdown",
   "id": "32798364-e975-47f3-9546-51089c561f38",
   "metadata": {},
   "source": [
    "# ACCESSING FIRST 5 ROWS"
   ]
  },
  {
   "cell_type": "code",
   "execution_count": 5,
   "id": "84012f1d-4ee6-41e2-aaee-d1c955007db6",
   "metadata": {},
   "outputs": [
    {
     "data": {
      "text/html": [
       "<div>\n",
       "<style scoped>\n",
       "    .dataframe tbody tr th:only-of-type {\n",
       "        vertical-align: middle;\n",
       "    }\n",
       "\n",
       "    .dataframe tbody tr th {\n",
       "        vertical-align: top;\n",
       "    }\n",
       "\n",
       "    .dataframe thead th {\n",
       "        text-align: right;\n",
       "    }\n",
       "</style>\n",
       "<table border=\"1\" class=\"dataframe\">\n",
       "  <thead>\n",
       "    <tr style=\"text-align: right;\">\n",
       "      <th></th>\n",
       "      <th>InvoiceNo</th>\n",
       "      <th>StockCode</th>\n",
       "      <th>Description</th>\n",
       "      <th>Quantity</th>\n",
       "      <th>InvoiceDate</th>\n",
       "      <th>UnitPrice</th>\n",
       "      <th>CustomerID</th>\n",
       "      <th>Country</th>\n",
       "    </tr>\n",
       "  </thead>\n",
       "  <tbody>\n",
       "    <tr>\n",
       "      <th>0</th>\n",
       "      <td>INV-694015</td>\n",
       "      <td>SC-4038</td>\n",
       "      <td>LED Lights</td>\n",
       "      <td>46</td>\n",
       "      <td>2024-12-17</td>\n",
       "      <td>52.62</td>\n",
       "      <td>CUST-73316</td>\n",
       "      <td>USA</td>\n",
       "    </tr>\n",
       "    <tr>\n",
       "      <th>1</th>\n",
       "      <td>INV-469079</td>\n",
       "      <td>SC-2603</td>\n",
       "      <td>Santa Hat</td>\n",
       "      <td>27</td>\n",
       "      <td>2024-12-28</td>\n",
       "      <td>98.10</td>\n",
       "      <td>CUST-61708</td>\n",
       "      <td>USA</td>\n",
       "    </tr>\n",
       "    <tr>\n",
       "      <th>2</th>\n",
       "      <td>INV-272871</td>\n",
       "      <td>SC-9683</td>\n",
       "      <td>Santa Hat</td>\n",
       "      <td>7</td>\n",
       "      <td>2024-12-26</td>\n",
       "      <td>94.04</td>\n",
       "      <td>CUST-60546</td>\n",
       "      <td>USA</td>\n",
       "    </tr>\n",
       "    <tr>\n",
       "      <th>3</th>\n",
       "      <td>INV-748096</td>\n",
       "      <td>SC-4222</td>\n",
       "      <td>Christmas Tree</td>\n",
       "      <td>10</td>\n",
       "      <td>2024-12-09</td>\n",
       "      <td>80.73</td>\n",
       "      <td>CUST-48419</td>\n",
       "      <td>USA</td>\n",
       "    </tr>\n",
       "    <tr>\n",
       "      <th>4</th>\n",
       "      <td>INV-162397</td>\n",
       "      <td>SC-1628</td>\n",
       "      <td>Christmas Tree</td>\n",
       "      <td>46</td>\n",
       "      <td>2024-12-19</td>\n",
       "      <td>62.36</td>\n",
       "      <td>CUST-78370</td>\n",
       "      <td>USA</td>\n",
       "    </tr>\n",
       "  </tbody>\n",
       "</table>\n",
       "</div>"
      ],
      "text/plain": [
       "    InvoiceNo StockCode     Description  Quantity InvoiceDate  UnitPrice  \\\n",
       "0  INV-694015   SC-4038      LED Lights        46  2024-12-17      52.62   \n",
       "1  INV-469079   SC-2603       Santa Hat        27  2024-12-28      98.10   \n",
       "2  INV-272871   SC-9683       Santa Hat         7  2024-12-26      94.04   \n",
       "3  INV-748096   SC-4222  Christmas Tree        10  2024-12-09      80.73   \n",
       "4  INV-162397   SC-1628  Christmas Tree        46  2024-12-19      62.36   \n",
       "\n",
       "   CustomerID Country  \n",
       "0  CUST-73316     USA  \n",
       "1  CUST-61708     USA  \n",
       "2  CUST-60546     USA  \n",
       "3  CUST-48419     USA  \n",
       "4  CUST-78370     USA  "
      ]
     },
     "execution_count": 5,
     "metadata": {},
     "output_type": "execute_result"
    }
   ],
   "source": [
    "df.head()\n"
   ]
  },
  {
   "cell_type": "markdown",
   "id": "13a7ba48-bbda-472e-9634-5b9b49bcdb3c",
   "metadata": {},
   "source": [
    "# ACCESSING LAST 5 ROWS"
   ]
  },
  {
   "cell_type": "code",
   "execution_count": 6,
   "id": "3114764c-2e90-4261-acd3-4dc4d20b42fc",
   "metadata": {},
   "outputs": [
    {
     "data": {
      "text/html": [
       "<div>\n",
       "<style scoped>\n",
       "    .dataframe tbody tr th:only-of-type {\n",
       "        vertical-align: middle;\n",
       "    }\n",
       "\n",
       "    .dataframe tbody tr th {\n",
       "        vertical-align: top;\n",
       "    }\n",
       "\n",
       "    .dataframe thead th {\n",
       "        text-align: right;\n",
       "    }\n",
       "</style>\n",
       "<table border=\"1\" class=\"dataframe\">\n",
       "  <thead>\n",
       "    <tr style=\"text-align: right;\">\n",
       "      <th></th>\n",
       "      <th>InvoiceNo</th>\n",
       "      <th>StockCode</th>\n",
       "      <th>Description</th>\n",
       "      <th>Quantity</th>\n",
       "      <th>InvoiceDate</th>\n",
       "      <th>UnitPrice</th>\n",
       "      <th>CustomerID</th>\n",
       "      <th>Country</th>\n",
       "    </tr>\n",
       "  </thead>\n",
       "  <tbody>\n",
       "    <tr>\n",
       "      <th>99995</th>\n",
       "      <td>INV-918375</td>\n",
       "      <td>SC-4046</td>\n",
       "      <td>Gift Wrap</td>\n",
       "      <td>4</td>\n",
       "      <td>2024-12-31</td>\n",
       "      <td>50.56</td>\n",
       "      <td>CUST-50152</td>\n",
       "      <td>USA</td>\n",
       "    </tr>\n",
       "    <tr>\n",
       "      <th>99996</th>\n",
       "      <td>INV-623708</td>\n",
       "      <td>SC-9483</td>\n",
       "      <td>Ornaments</td>\n",
       "      <td>7</td>\n",
       "      <td>2024-12-19</td>\n",
       "      <td>55.49</td>\n",
       "      <td>CUST-11412</td>\n",
       "      <td>USA</td>\n",
       "    </tr>\n",
       "    <tr>\n",
       "      <th>99997</th>\n",
       "      <td>INV-296024</td>\n",
       "      <td>SC-8331</td>\n",
       "      <td>Snowman Figure</td>\n",
       "      <td>27</td>\n",
       "      <td>2024-12-14</td>\n",
       "      <td>84.92</td>\n",
       "      <td>CUST-89837</td>\n",
       "      <td>USA</td>\n",
       "    </tr>\n",
       "    <tr>\n",
       "      <th>99998</th>\n",
       "      <td>INV-250807</td>\n",
       "      <td>SC-7893</td>\n",
       "      <td>Gift Wrap</td>\n",
       "      <td>34</td>\n",
       "      <td>2024-12-18</td>\n",
       "      <td>67.56</td>\n",
       "      <td>CUST-22213</td>\n",
       "      <td>USA</td>\n",
       "    </tr>\n",
       "    <tr>\n",
       "      <th>99999</th>\n",
       "      <td>INV-971958</td>\n",
       "      <td>SC-5497</td>\n",
       "      <td>Gift Wrap</td>\n",
       "      <td>16</td>\n",
       "      <td>2024-12-13</td>\n",
       "      <td>99.67</td>\n",
       "      <td>CUST-20894</td>\n",
       "      <td>USA</td>\n",
       "    </tr>\n",
       "  </tbody>\n",
       "</table>\n",
       "</div>"
      ],
      "text/plain": [
       "        InvoiceNo StockCode     Description  Quantity InvoiceDate  UnitPrice  \\\n",
       "99995  INV-918375   SC-4046       Gift Wrap         4  2024-12-31      50.56   \n",
       "99996  INV-623708   SC-9483       Ornaments         7  2024-12-19      55.49   \n",
       "99997  INV-296024   SC-8331  Snowman Figure        27  2024-12-14      84.92   \n",
       "99998  INV-250807   SC-7893       Gift Wrap        34  2024-12-18      67.56   \n",
       "99999  INV-971958   SC-5497       Gift Wrap        16  2024-12-13      99.67   \n",
       "\n",
       "       CustomerID Country  \n",
       "99995  CUST-50152     USA  \n",
       "99996  CUST-11412     USA  \n",
       "99997  CUST-89837     USA  \n",
       "99998  CUST-22213     USA  \n",
       "99999  CUST-20894     USA  "
      ]
     },
     "execution_count": 6,
     "metadata": {},
     "output_type": "execute_result"
    }
   ],
   "source": [
    "df.tail()\n"
   ]
  },
  {
   "cell_type": "markdown",
   "id": "899b79f5-30cd-4ccd-bc7f-91248a6bf681",
   "metadata": {},
   "source": [
    "# DISPLAY TOTAL COLUMNS"
   ]
  },
  {
   "cell_type": "code",
   "execution_count": 7,
   "id": "6daa0001-8c41-420a-ab8b-e07b47b2d523",
   "metadata": {},
   "outputs": [
    {
     "data": {
      "text/plain": [
       "Index(['InvoiceNo', 'StockCode', 'Description', 'Quantity', 'InvoiceDate',\n",
       "       'UnitPrice', 'CustomerID', 'Country'],\n",
       "      dtype='object')"
      ]
     },
     "execution_count": 7,
     "metadata": {},
     "output_type": "execute_result"
    }
   ],
   "source": [
    "df.columns\n"
   ]
  },
  {
   "cell_type": "markdown",
   "id": "c594882c-f225-494f-bb50-ed4fd1e2e94d",
   "metadata": {},
   "source": [
    "# GETTING COLUMNS ONE BY ONE"
   ]
  },
  {
   "cell_type": "code",
   "execution_count": 8,
   "id": "46924aba-0beb-4d05-8f3c-d48aa52176aa",
   "metadata": {},
   "outputs": [
    {
     "name": "stdout",
     "output_type": "stream",
     "text": [
      "InvoiceNo\n",
      "StockCode\n",
      "Description\n",
      "Quantity\n",
      "InvoiceDate\n",
      "UnitPrice\n",
      "CustomerID\n",
      "Country\n"
     ]
    }
   ],
   "source": [
    "for col in df.columns:\n",
    "    print(col)"
   ]
  },
  {
   "cell_type": "markdown",
   "id": "f722a286-a787-4a51-b714-8ef186a5b065",
   "metadata": {},
   "source": [
    " # RENAMING ALL COLUMN NAMES "
   ]
  },
  {
   "cell_type": "code",
   "execution_count": 9,
   "id": "0b08fe77-a0b8-4904-8b36-f4c469e1bc18",
   "metadata": {},
   "outputs": [],
   "source": [
    "d={\n",
    "    \"InvoiceNo\":\"invoice_no\",\n",
    "    \"StockCode\":\"stock_code\",\n",
    "    \"Description\":\"description\",\n",
    "    \"Quantity\":\"quantity\",\n",
    "    \"InvoiceDate\":\"invoice_date\",\n",
    "    \"UnitPrice\":\"unit_price\",\n",
    "    \"CustomerID\":\"customer_id\",\n",
    "    \"Country\":\"country\"\n",
    "}\n"
   ]
  },
  {
   "cell_type": "code",
   "execution_count": 10,
   "id": "8527286c-8659-4a92-805d-ba4b3c15afe7",
   "metadata": {},
   "outputs": [
    {
     "data": {
      "text/plain": [
       "{'InvoiceNo': 'invoice_no',\n",
       " 'StockCode': 'stock_code',\n",
       " 'Description': 'description',\n",
       " 'Quantity': 'quantity',\n",
       " 'InvoiceDate': 'invoice_date',\n",
       " 'UnitPrice': 'unit_price',\n",
       " 'CustomerID': 'customer_id',\n",
       " 'Country': 'country'}"
      ]
     },
     "execution_count": 10,
     "metadata": {},
     "output_type": "execute_result"
    }
   ],
   "source": [
    "d"
   ]
  },
  {
   "cell_type": "code",
   "execution_count": 11,
   "id": "911f922c-0341-48c9-a4c9-766d282e999e",
   "metadata": {},
   "outputs": [],
   "source": [
    "df.rename(columns=d,inplace=True)"
   ]
  },
  {
   "cell_type": "code",
   "execution_count": 12,
   "id": "a0c06160-3edc-4a9a-a74d-5a2d36a3108e",
   "metadata": {},
   "outputs": [
    {
     "data": {
      "text/html": [
       "<div>\n",
       "<style scoped>\n",
       "    .dataframe tbody tr th:only-of-type {\n",
       "        vertical-align: middle;\n",
       "    }\n",
       "\n",
       "    .dataframe tbody tr th {\n",
       "        vertical-align: top;\n",
       "    }\n",
       "\n",
       "    .dataframe thead th {\n",
       "        text-align: right;\n",
       "    }\n",
       "</style>\n",
       "<table border=\"1\" class=\"dataframe\">\n",
       "  <thead>\n",
       "    <tr style=\"text-align: right;\">\n",
       "      <th></th>\n",
       "      <th>invoice_no</th>\n",
       "      <th>stock_code</th>\n",
       "      <th>description</th>\n",
       "      <th>quantity</th>\n",
       "      <th>invoice_date</th>\n",
       "      <th>unit_price</th>\n",
       "      <th>customer_id</th>\n",
       "      <th>country</th>\n",
       "    </tr>\n",
       "  </thead>\n",
       "  <tbody>\n",
       "    <tr>\n",
       "      <th>0</th>\n",
       "      <td>INV-694015</td>\n",
       "      <td>SC-4038</td>\n",
       "      <td>LED Lights</td>\n",
       "      <td>46</td>\n",
       "      <td>2024-12-17</td>\n",
       "      <td>52.62</td>\n",
       "      <td>CUST-73316</td>\n",
       "      <td>USA</td>\n",
       "    </tr>\n",
       "    <tr>\n",
       "      <th>1</th>\n",
       "      <td>INV-469079</td>\n",
       "      <td>SC-2603</td>\n",
       "      <td>Santa Hat</td>\n",
       "      <td>27</td>\n",
       "      <td>2024-12-28</td>\n",
       "      <td>98.10</td>\n",
       "      <td>CUST-61708</td>\n",
       "      <td>USA</td>\n",
       "    </tr>\n",
       "    <tr>\n",
       "      <th>2</th>\n",
       "      <td>INV-272871</td>\n",
       "      <td>SC-9683</td>\n",
       "      <td>Santa Hat</td>\n",
       "      <td>7</td>\n",
       "      <td>2024-12-26</td>\n",
       "      <td>94.04</td>\n",
       "      <td>CUST-60546</td>\n",
       "      <td>USA</td>\n",
       "    </tr>\n",
       "    <tr>\n",
       "      <th>3</th>\n",
       "      <td>INV-748096</td>\n",
       "      <td>SC-4222</td>\n",
       "      <td>Christmas Tree</td>\n",
       "      <td>10</td>\n",
       "      <td>2024-12-09</td>\n",
       "      <td>80.73</td>\n",
       "      <td>CUST-48419</td>\n",
       "      <td>USA</td>\n",
       "    </tr>\n",
       "    <tr>\n",
       "      <th>4</th>\n",
       "      <td>INV-162397</td>\n",
       "      <td>SC-1628</td>\n",
       "      <td>Christmas Tree</td>\n",
       "      <td>46</td>\n",
       "      <td>2024-12-19</td>\n",
       "      <td>62.36</td>\n",
       "      <td>CUST-78370</td>\n",
       "      <td>USA</td>\n",
       "    </tr>\n",
       "  </tbody>\n",
       "</table>\n",
       "</div>"
      ],
      "text/plain": [
       "   invoice_no stock_code     description  quantity invoice_date  unit_price  \\\n",
       "0  INV-694015    SC-4038      LED Lights        46   2024-12-17       52.62   \n",
       "1  INV-469079    SC-2603       Santa Hat        27   2024-12-28       98.10   \n",
       "2  INV-272871    SC-9683       Santa Hat         7   2024-12-26       94.04   \n",
       "3  INV-748096    SC-4222  Christmas Tree        10   2024-12-09       80.73   \n",
       "4  INV-162397    SC-1628  Christmas Tree        46   2024-12-19       62.36   \n",
       "\n",
       "  customer_id country  \n",
       "0  CUST-73316     USA  \n",
       "1  CUST-61708     USA  \n",
       "2  CUST-60546     USA  \n",
       "3  CUST-48419     USA  \n",
       "4  CUST-78370     USA  "
      ]
     },
     "execution_count": 12,
     "metadata": {},
     "output_type": "execute_result"
    }
   ],
   "source": [
    "df.head()"
   ]
  },
  {
   "cell_type": "markdown",
   "id": "b5cf6528-cd9e-4919-b83e-47ff5e296ab3",
   "metadata": {},
   "source": [
    "# DATA CLEANING"
   ]
  },
  {
   "cell_type": "markdown",
   "id": "087e89ca-132f-4232-a89b-feaf029e2094",
   "metadata": {},
   "source": [
    "# CHECKING NEW COLUMNS NAMES"
   ]
  },
  {
   "cell_type": "code",
   "execution_count": 13,
   "id": "c3715e38-b094-403b-8769-a0384abbbda2",
   "metadata": {},
   "outputs": [
    {
     "name": "stdout",
     "output_type": "stream",
     "text": [
      "invoice_no\n",
      "stock_code\n",
      "description\n",
      "quantity\n",
      "invoice_date\n",
      "unit_price\n",
      "customer_id\n",
      "country\n"
     ]
    }
   ],
   "source": [
    "for col in df.columns:\n",
    "    print(col)\n"
   ]
  },
  {
   "cell_type": "markdown",
   "id": "5d87cd38-452d-473e-940e-6397295d73cf",
   "metadata": {},
   "source": [
    "# TYPES"
   ]
  },
  {
   "cell_type": "code",
   "execution_count": 14,
   "id": "158aae53-d0c7-44a3-9273-963a914b8bbe",
   "metadata": {},
   "outputs": [
    {
     "data": {
      "text/plain": [
       "invoice_no       object\n",
       "stock_code       object\n",
       "description      object\n",
       "quantity          int64\n",
       "invoice_date     object\n",
       "unit_price      float64\n",
       "customer_id      object\n",
       "country          object\n",
       "dtype: object"
      ]
     },
     "execution_count": 14,
     "metadata": {},
     "output_type": "execute_result"
    }
   ],
   "source": [
    "df.dtypes"
   ]
  },
  {
   "cell_type": "markdown",
   "id": "9f15b9d0-3ab4-480e-83b4-194cd1d26fd2",
   "metadata": {},
   "source": [
    "# INFORMATION "
   ]
  },
  {
   "cell_type": "code",
   "execution_count": 15,
   "id": "49a022f0-ffab-46b9-8466-b583b41ddb28",
   "metadata": {},
   "outputs": [
    {
     "name": "stdout",
     "output_type": "stream",
     "text": [
      "<class 'pandas.core.frame.DataFrame'>\n",
      "RangeIndex: 100000 entries, 0 to 99999\n",
      "Data columns (total 8 columns):\n",
      " #   Column        Non-Null Count   Dtype  \n",
      "---  ------        --------------   -----  \n",
      " 0   invoice_no    100000 non-null  object \n",
      " 1   stock_code    100000 non-null  object \n",
      " 2   description   99667 non-null   object \n",
      " 3   quantity      100000 non-null  int64  \n",
      " 4   invoice_date  100000 non-null  object \n",
      " 5   unit_price    99667 non-null   float64\n",
      " 6   customer_id   99667 non-null   object \n",
      " 7   country       100000 non-null  object \n",
      "dtypes: float64(1), int64(1), object(6)\n",
      "memory usage: 6.1+ MB\n"
     ]
    }
   ],
   "source": [
    "df.info()"
   ]
  },
  {
   "cell_type": "markdown",
   "id": "ff740bbd-2091-45ba-80aa-3c13075eb897",
   "metadata": {},
   "source": [
    "# CHECKING MISSING VALUES FOR EACH COLUMN"
   ]
  },
  {
   "cell_type": "code",
   "execution_count": 16,
   "id": "a5f1b662-f463-4ac1-a3cd-bc8cf335b596",
   "metadata": {},
   "outputs": [
    {
     "data": {
      "text/html": [
       "<div>\n",
       "<style scoped>\n",
       "    .dataframe tbody tr th:only-of-type {\n",
       "        vertical-align: middle;\n",
       "    }\n",
       "\n",
       "    .dataframe tbody tr th {\n",
       "        vertical-align: top;\n",
       "    }\n",
       "\n",
       "    .dataframe thead th {\n",
       "        text-align: right;\n",
       "    }\n",
       "</style>\n",
       "<table border=\"1\" class=\"dataframe\">\n",
       "  <thead>\n",
       "    <tr style=\"text-align: right;\">\n",
       "      <th></th>\n",
       "      <th>invoice_no</th>\n",
       "      <th>stock_code</th>\n",
       "      <th>description</th>\n",
       "      <th>quantity</th>\n",
       "      <th>invoice_date</th>\n",
       "      <th>unit_price</th>\n",
       "      <th>customer_id</th>\n",
       "      <th>country</th>\n",
       "    </tr>\n",
       "  </thead>\n",
       "  <tbody>\n",
       "    <tr>\n",
       "      <th>0</th>\n",
       "      <td>False</td>\n",
       "      <td>False</td>\n",
       "      <td>False</td>\n",
       "      <td>False</td>\n",
       "      <td>False</td>\n",
       "      <td>False</td>\n",
       "      <td>False</td>\n",
       "      <td>False</td>\n",
       "    </tr>\n",
       "    <tr>\n",
       "      <th>1</th>\n",
       "      <td>False</td>\n",
       "      <td>False</td>\n",
       "      <td>False</td>\n",
       "      <td>False</td>\n",
       "      <td>False</td>\n",
       "      <td>False</td>\n",
       "      <td>False</td>\n",
       "      <td>False</td>\n",
       "    </tr>\n",
       "    <tr>\n",
       "      <th>2</th>\n",
       "      <td>False</td>\n",
       "      <td>False</td>\n",
       "      <td>False</td>\n",
       "      <td>False</td>\n",
       "      <td>False</td>\n",
       "      <td>False</td>\n",
       "      <td>False</td>\n",
       "      <td>False</td>\n",
       "    </tr>\n",
       "    <tr>\n",
       "      <th>3</th>\n",
       "      <td>False</td>\n",
       "      <td>False</td>\n",
       "      <td>False</td>\n",
       "      <td>False</td>\n",
       "      <td>False</td>\n",
       "      <td>False</td>\n",
       "      <td>False</td>\n",
       "      <td>False</td>\n",
       "    </tr>\n",
       "    <tr>\n",
       "      <th>4</th>\n",
       "      <td>False</td>\n",
       "      <td>False</td>\n",
       "      <td>False</td>\n",
       "      <td>False</td>\n",
       "      <td>False</td>\n",
       "      <td>False</td>\n",
       "      <td>False</td>\n",
       "      <td>False</td>\n",
       "    </tr>\n",
       "    <tr>\n",
       "      <th>...</th>\n",
       "      <td>...</td>\n",
       "      <td>...</td>\n",
       "      <td>...</td>\n",
       "      <td>...</td>\n",
       "      <td>...</td>\n",
       "      <td>...</td>\n",
       "      <td>...</td>\n",
       "      <td>...</td>\n",
       "    </tr>\n",
       "    <tr>\n",
       "      <th>99995</th>\n",
       "      <td>False</td>\n",
       "      <td>False</td>\n",
       "      <td>False</td>\n",
       "      <td>False</td>\n",
       "      <td>False</td>\n",
       "      <td>False</td>\n",
       "      <td>False</td>\n",
       "      <td>False</td>\n",
       "    </tr>\n",
       "    <tr>\n",
       "      <th>99996</th>\n",
       "      <td>False</td>\n",
       "      <td>False</td>\n",
       "      <td>False</td>\n",
       "      <td>False</td>\n",
       "      <td>False</td>\n",
       "      <td>False</td>\n",
       "      <td>False</td>\n",
       "      <td>False</td>\n",
       "    </tr>\n",
       "    <tr>\n",
       "      <th>99997</th>\n",
       "      <td>False</td>\n",
       "      <td>False</td>\n",
       "      <td>False</td>\n",
       "      <td>False</td>\n",
       "      <td>False</td>\n",
       "      <td>False</td>\n",
       "      <td>False</td>\n",
       "      <td>False</td>\n",
       "    </tr>\n",
       "    <tr>\n",
       "      <th>99998</th>\n",
       "      <td>False</td>\n",
       "      <td>False</td>\n",
       "      <td>False</td>\n",
       "      <td>False</td>\n",
       "      <td>False</td>\n",
       "      <td>False</td>\n",
       "      <td>False</td>\n",
       "      <td>False</td>\n",
       "    </tr>\n",
       "    <tr>\n",
       "      <th>99999</th>\n",
       "      <td>False</td>\n",
       "      <td>False</td>\n",
       "      <td>False</td>\n",
       "      <td>False</td>\n",
       "      <td>False</td>\n",
       "      <td>False</td>\n",
       "      <td>False</td>\n",
       "      <td>False</td>\n",
       "    </tr>\n",
       "  </tbody>\n",
       "</table>\n",
       "<p>100000 rows × 8 columns</p>\n",
       "</div>"
      ],
      "text/plain": [
       "       invoice_no  stock_code  description  quantity  invoice_date  \\\n",
       "0           False       False        False     False         False   \n",
       "1           False       False        False     False         False   \n",
       "2           False       False        False     False         False   \n",
       "3           False       False        False     False         False   \n",
       "4           False       False        False     False         False   \n",
       "...           ...         ...          ...       ...           ...   \n",
       "99995       False       False        False     False         False   \n",
       "99996       False       False        False     False         False   \n",
       "99997       False       False        False     False         False   \n",
       "99998       False       False        False     False         False   \n",
       "99999       False       False        False     False         False   \n",
       "\n",
       "       unit_price  customer_id  country  \n",
       "0           False        False    False  \n",
       "1           False        False    False  \n",
       "2           False        False    False  \n",
       "3           False        False    False  \n",
       "4           False        False    False  \n",
       "...           ...          ...      ...  \n",
       "99995       False        False    False  \n",
       "99996       False        False    False  \n",
       "99997       False        False    False  \n",
       "99998       False        False    False  \n",
       "99999       False        False    False  \n",
       "\n",
       "[100000 rows x 8 columns]"
      ]
     },
     "execution_count": 16,
     "metadata": {},
     "output_type": "execute_result"
    }
   ],
   "source": [
    "df.isna()"
   ]
  },
  {
   "cell_type": "code",
   "execution_count": 17,
   "id": "32e78745-4604-4b5a-a706-7c60bd8d25db",
   "metadata": {},
   "outputs": [
    {
     "data": {
      "text/plain": [
       "invoice_no        0\n",
       "stock_code        0\n",
       "description     333\n",
       "quantity          0\n",
       "invoice_date      0\n",
       "unit_price      333\n",
       "customer_id     333\n",
       "country           0\n",
       "dtype: int64"
      ]
     },
     "execution_count": 17,
     "metadata": {},
     "output_type": "execute_result"
    }
   ],
   "source": [
    "df.isna().sum()"
   ]
  },
  {
   "cell_type": "code",
   "execution_count": 18,
   "id": "7dc39648-0537-4a1a-93a7-3424bba665f6",
   "metadata": {},
   "outputs": [],
   "source": [
    "# keeping it in asscending order "
   ]
  },
  {
   "cell_type": "code",
   "execution_count": 19,
   "id": "be9acb43-ec4f-4c9d-aa8b-0f8f8a720980",
   "metadata": {},
   "outputs": [
    {
     "data": {
      "text/plain": [
       "invoice_no        0\n",
       "stock_code        0\n",
       "quantity          0\n",
       "invoice_date      0\n",
       "country           0\n",
       "description     333\n",
       "unit_price      333\n",
       "customer_id     333\n",
       "dtype: int64"
      ]
     },
     "execution_count": 19,
     "metadata": {},
     "output_type": "execute_result"
    }
   ],
   "source": [
    "df.isna().sum().sort_values()"
   ]
  },
  {
   "cell_type": "code",
   "execution_count": 20,
   "id": "21282d0d-eb7f-41aa-b8c3-e25659cfe058",
   "metadata": {},
   "outputs": [],
   "source": [
    "# in decresing order"
   ]
  },
  {
   "cell_type": "code",
   "execution_count": 21,
   "id": "79511902-706d-41fc-bf29-3adcee38b048",
   "metadata": {},
   "outputs": [
    {
     "data": {
      "text/plain": [
       "description     333\n",
       "unit_price      333\n",
       "customer_id     333\n",
       "invoice_no        0\n",
       "quantity          0\n",
       "stock_code        0\n",
       "invoice_date      0\n",
       "country           0\n",
       "dtype: int64"
      ]
     },
     "execution_count": 21,
     "metadata": {},
     "output_type": "execute_result"
    }
   ],
   "source": [
    "df.isna().sum().sort_values(ascending=False)"
   ]
  },
  {
   "cell_type": "markdown",
   "id": "3fdcfaff-c41d-4b44-bdc2-bb7e9eedda38",
   "metadata": {},
   "source": [
    "# EDA OVER INVOICE DATE COLUMN"
   ]
  },
  {
   "cell_type": "markdown",
   "id": "247bca4b-e930-49a8-b29b-f3285a5697a1",
   "metadata": {},
   "source": [
    "df.head(2)\n"
   ]
  },
  {
   "cell_type": "markdown",
   "id": "cbe99469-ca6f-41b7-a9f8-7c930b209813",
   "metadata": {},
   "source": [
    "# CONVERTING INVOICE DATA YPE INTO DATE TIME DATATYPE"
   ]
  },
  {
   "cell_type": "code",
   "execution_count": 22,
   "id": "9b625ea0-acf8-4538-8d7b-b0f25f7cdeac",
   "metadata": {},
   "outputs": [],
   "source": [
    "df['invoice_date'] = pd.to_datetime(df[\"invoice_date\"], format=\"%Y-%m-%d\")\n"
   ]
  },
  {
   "cell_type": "code",
   "execution_count": 23,
   "id": "b421d4cd-a7b7-404b-9b7d-c9c7fb0ee902",
   "metadata": {},
   "outputs": [
    {
     "name": "stdout",
     "output_type": "stream",
     "text": [
      "<class 'pandas.core.frame.DataFrame'>\n",
      "RangeIndex: 100000 entries, 0 to 99999\n",
      "Data columns (total 8 columns):\n",
      " #   Column        Non-Null Count   Dtype         \n",
      "---  ------        --------------   -----         \n",
      " 0   invoice_no    100000 non-null  object        \n",
      " 1   stock_code    100000 non-null  object        \n",
      " 2   description   99667 non-null   object        \n",
      " 3   quantity      100000 non-null  int64         \n",
      " 4   invoice_date  100000 non-null  datetime64[ns]\n",
      " 5   unit_price    99667 non-null   float64       \n",
      " 6   customer_id   99667 non-null   object        \n",
      " 7   country       100000 non-null  object        \n",
      "dtypes: datetime64[ns](1), float64(1), int64(1), object(5)\n",
      "memory usage: 6.1+ MB\n"
     ]
    }
   ],
   "source": [
    "df.info()"
   ]
  },
  {
   "cell_type": "markdown",
   "id": "6bfd0763-10db-4d13-b895-a6b0ef3dc5b0",
   "metadata": {},
   "source": [
    "# DESCRIPTION"
   ]
  },
  {
   "cell_type": "code",
   "execution_count": 24,
   "id": "c22d0e23-92e9-4f58-8d4b-879896b8b8b9",
   "metadata": {},
   "outputs": [
    {
     "data": {
      "text/plain": [
       "0            LED Lights\n",
       "1             Santa Hat\n",
       "2             Santa Hat\n",
       "3        Christmas Tree\n",
       "4        Christmas Tree\n",
       "              ...      \n",
       "99995         Gift Wrap\n",
       "99996         Ornaments\n",
       "99997    Snowman Figure\n",
       "99998         Gift Wrap\n",
       "99999         Gift Wrap\n",
       "Name: description, Length: 100000, dtype: object"
      ]
     },
     "execution_count": 24,
     "metadata": {},
     "output_type": "execute_result"
    }
   ],
   "source": [
    "df.description"
   ]
  },
  {
   "cell_type": "code",
   "execution_count": 25,
   "id": "4ce87450-8f4f-4ff8-b9e5-d642649f7902",
   "metadata": {},
   "outputs": [
    {
     "data": {
      "text/plain": [
       "<pandas.core.strings.accessor.StringMethods at 0x1b65019aad0>"
      ]
     },
     "execution_count": 25,
     "metadata": {},
     "output_type": "execute_result"
    }
   ],
   "source": [
    "df.description.str"
   ]
  },
  {
   "cell_type": "code",
   "execution_count": 26,
   "id": "b63a6cab-bbc4-406b-929b-39f7ca270d9c",
   "metadata": {},
   "outputs": [
    {
     "data": {
      "text/plain": [
       "<bound method StringMethods.lower of <pandas.core.strings.accessor.StringMethods object at 0x000001B65019AAD0>>"
      ]
     },
     "execution_count": 26,
     "metadata": {},
     "output_type": "execute_result"
    }
   ],
   "source": [
    "df.description.str.lower   #uses for lower case..but here it wil not woek"
   ]
  },
  {
   "cell_type": "code",
   "execution_count": 27,
   "id": "c5c2ad09-041c-4d54-9feb-44eee0cb278a",
   "metadata": {},
   "outputs": [
    {
     "data": {
      "text/html": [
       "<div>\n",
       "<style scoped>\n",
       "    .dataframe tbody tr th:only-of-type {\n",
       "        vertical-align: middle;\n",
       "    }\n",
       "\n",
       "    .dataframe tbody tr th {\n",
       "        vertical-align: top;\n",
       "    }\n",
       "\n",
       "    .dataframe thead th {\n",
       "        text-align: right;\n",
       "    }\n",
       "</style>\n",
       "<table border=\"1\" class=\"dataframe\">\n",
       "  <thead>\n",
       "    <tr style=\"text-align: right;\">\n",
       "      <th></th>\n",
       "      <th>invoice_no</th>\n",
       "      <th>stock_code</th>\n",
       "      <th>description</th>\n",
       "      <th>quantity</th>\n",
       "      <th>invoice_date</th>\n",
       "      <th>unit_price</th>\n",
       "      <th>customer_id</th>\n",
       "      <th>country</th>\n",
       "    </tr>\n",
       "  </thead>\n",
       "  <tbody>\n",
       "    <tr>\n",
       "      <th>0</th>\n",
       "      <td>INV-694015</td>\n",
       "      <td>SC-4038</td>\n",
       "      <td>LED Lights</td>\n",
       "      <td>46</td>\n",
       "      <td>2024-12-17</td>\n",
       "      <td>52.62</td>\n",
       "      <td>CUST-73316</td>\n",
       "      <td>USA</td>\n",
       "    </tr>\n",
       "    <tr>\n",
       "      <th>1</th>\n",
       "      <td>INV-469079</td>\n",
       "      <td>SC-2603</td>\n",
       "      <td>Santa Hat</td>\n",
       "      <td>27</td>\n",
       "      <td>2024-12-28</td>\n",
       "      <td>98.10</td>\n",
       "      <td>CUST-61708</td>\n",
       "      <td>USA</td>\n",
       "    </tr>\n",
       "    <tr>\n",
       "      <th>2</th>\n",
       "      <td>INV-272871</td>\n",
       "      <td>SC-9683</td>\n",
       "      <td>Santa Hat</td>\n",
       "      <td>7</td>\n",
       "      <td>2024-12-26</td>\n",
       "      <td>94.04</td>\n",
       "      <td>CUST-60546</td>\n",
       "      <td>USA</td>\n",
       "    </tr>\n",
       "    <tr>\n",
       "      <th>3</th>\n",
       "      <td>INV-748096</td>\n",
       "      <td>SC-4222</td>\n",
       "      <td>Christmas Tree</td>\n",
       "      <td>10</td>\n",
       "      <td>2024-12-09</td>\n",
       "      <td>80.73</td>\n",
       "      <td>CUST-48419</td>\n",
       "      <td>USA</td>\n",
       "    </tr>\n",
       "    <tr>\n",
       "      <th>4</th>\n",
       "      <td>INV-162397</td>\n",
       "      <td>SC-1628</td>\n",
       "      <td>Christmas Tree</td>\n",
       "      <td>46</td>\n",
       "      <td>2024-12-19</td>\n",
       "      <td>62.36</td>\n",
       "      <td>CUST-78370</td>\n",
       "      <td>USA</td>\n",
       "    </tr>\n",
       "  </tbody>\n",
       "</table>\n",
       "</div>"
      ],
      "text/plain": [
       "   invoice_no stock_code     description  quantity invoice_date  unit_price  \\\n",
       "0  INV-694015    SC-4038      LED Lights        46   2024-12-17       52.62   \n",
       "1  INV-469079    SC-2603       Santa Hat        27   2024-12-28       98.10   \n",
       "2  INV-272871    SC-9683       Santa Hat         7   2024-12-26       94.04   \n",
       "3  INV-748096    SC-4222  Christmas Tree        10   2024-12-09       80.73   \n",
       "4  INV-162397    SC-1628  Christmas Tree        46   2024-12-19       62.36   \n",
       "\n",
       "  customer_id country  \n",
       "0  CUST-73316     USA  \n",
       "1  CUST-61708     USA  \n",
       "2  CUST-60546     USA  \n",
       "3  CUST-48419     USA  \n",
       "4  CUST-78370     USA  "
      ]
     },
     "execution_count": 27,
     "metadata": {},
     "output_type": "execute_result"
    }
   ],
   "source": [
    "df.head()"
   ]
  },
  {
   "cell_type": "code",
   "execution_count": 28,
   "id": "7da4a5e5-e6c2-44e9-ab62-5e93e4451a02",
   "metadata": {},
   "outputs": [],
   "source": [
    "df[\"description\"]=df.description.str.lower()     #it will works here"
   ]
  },
  {
   "cell_type": "code",
   "execution_count": 29,
   "id": "ddfa93b3-237a-4fff-b217-eed647dd1449",
   "metadata": {},
   "outputs": [
    {
     "data": {
      "text/html": [
       "<div>\n",
       "<style scoped>\n",
       "    .dataframe tbody tr th:only-of-type {\n",
       "        vertical-align: middle;\n",
       "    }\n",
       "\n",
       "    .dataframe tbody tr th {\n",
       "        vertical-align: top;\n",
       "    }\n",
       "\n",
       "    .dataframe thead th {\n",
       "        text-align: right;\n",
       "    }\n",
       "</style>\n",
       "<table border=\"1\" class=\"dataframe\">\n",
       "  <thead>\n",
       "    <tr style=\"text-align: right;\">\n",
       "      <th></th>\n",
       "      <th>invoice_no</th>\n",
       "      <th>stock_code</th>\n",
       "      <th>description</th>\n",
       "      <th>quantity</th>\n",
       "      <th>invoice_date</th>\n",
       "      <th>unit_price</th>\n",
       "      <th>customer_id</th>\n",
       "      <th>country</th>\n",
       "    </tr>\n",
       "  </thead>\n",
       "  <tbody>\n",
       "    <tr>\n",
       "      <th>0</th>\n",
       "      <td>INV-694015</td>\n",
       "      <td>SC-4038</td>\n",
       "      <td>led lights</td>\n",
       "      <td>46</td>\n",
       "      <td>2024-12-17</td>\n",
       "      <td>52.62</td>\n",
       "      <td>CUST-73316</td>\n",
       "      <td>USA</td>\n",
       "    </tr>\n",
       "    <tr>\n",
       "      <th>1</th>\n",
       "      <td>INV-469079</td>\n",
       "      <td>SC-2603</td>\n",
       "      <td>santa hat</td>\n",
       "      <td>27</td>\n",
       "      <td>2024-12-28</td>\n",
       "      <td>98.10</td>\n",
       "      <td>CUST-61708</td>\n",
       "      <td>USA</td>\n",
       "    </tr>\n",
       "    <tr>\n",
       "      <th>2</th>\n",
       "      <td>INV-272871</td>\n",
       "      <td>SC-9683</td>\n",
       "      <td>santa hat</td>\n",
       "      <td>7</td>\n",
       "      <td>2024-12-26</td>\n",
       "      <td>94.04</td>\n",
       "      <td>CUST-60546</td>\n",
       "      <td>USA</td>\n",
       "    </tr>\n",
       "    <tr>\n",
       "      <th>3</th>\n",
       "      <td>INV-748096</td>\n",
       "      <td>SC-4222</td>\n",
       "      <td>christmas tree</td>\n",
       "      <td>10</td>\n",
       "      <td>2024-12-09</td>\n",
       "      <td>80.73</td>\n",
       "      <td>CUST-48419</td>\n",
       "      <td>USA</td>\n",
       "    </tr>\n",
       "    <tr>\n",
       "      <th>4</th>\n",
       "      <td>INV-162397</td>\n",
       "      <td>SC-1628</td>\n",
       "      <td>christmas tree</td>\n",
       "      <td>46</td>\n",
       "      <td>2024-12-19</td>\n",
       "      <td>62.36</td>\n",
       "      <td>CUST-78370</td>\n",
       "      <td>USA</td>\n",
       "    </tr>\n",
       "  </tbody>\n",
       "</table>\n",
       "</div>"
      ],
      "text/plain": [
       "   invoice_no stock_code     description  quantity invoice_date  unit_price  \\\n",
       "0  INV-694015    SC-4038      led lights        46   2024-12-17       52.62   \n",
       "1  INV-469079    SC-2603       santa hat        27   2024-12-28       98.10   \n",
       "2  INV-272871    SC-9683       santa hat         7   2024-12-26       94.04   \n",
       "3  INV-748096    SC-4222  christmas tree        10   2024-12-09       80.73   \n",
       "4  INV-162397    SC-1628  christmas tree        46   2024-12-19       62.36   \n",
       "\n",
       "  customer_id country  \n",
       "0  CUST-73316     USA  \n",
       "1  CUST-61708     USA  \n",
       "2  CUST-60546     USA  \n",
       "3  CUST-48419     USA  \n",
       "4  CUST-78370     USA  "
      ]
     },
     "execution_count": 29,
     "metadata": {},
     "output_type": "execute_result"
    }
   ],
   "source": [
    "df.head()"
   ]
  },
  {
   "cell_type": "markdown",
   "id": "66e32888-e8ee-4b5e-9783-3f387ccb45d1",
   "metadata": {},
   "source": [
    "# MISSING VALUES"
   ]
  },
  {
   "cell_type": "code",
   "execution_count": 30,
   "id": "4ee0ad6f-46b4-4570-bc9e-b88fa74fe9fb",
   "metadata": {},
   "outputs": [
    {
     "data": {
      "text/plain": [
       "description     333\n",
       "unit_price      333\n",
       "customer_id     333\n",
       "invoice_no        0\n",
       "quantity          0\n",
       "stock_code        0\n",
       "invoice_date      0\n",
       "country           0\n",
       "dtype: int64"
      ]
     },
     "execution_count": 30,
     "metadata": {},
     "output_type": "execute_result"
    }
   ],
   "source": [
    "df.isnull().sum().sort_values(ascending=False)\n"
   ]
  },
  {
   "cell_type": "markdown",
   "id": "02153c93-29b1-4c46-98e6-d63929081e06",
   "metadata": {},
   "source": [
    "#  HANDLING MISSING VALUE"
   ]
  },
  {
   "cell_type": "code",
   "execution_count": 31,
   "id": "024498d0-0c3a-435d-839a-f11f9142589f",
   "metadata": {},
   "outputs": [],
   "source": [
    "df_new=df.dropna()"
   ]
  },
  {
   "cell_type": "code",
   "execution_count": 32,
   "id": "381ff3dd-9550-4f83-acee-0f0d39e5fe3d",
   "metadata": {},
   "outputs": [
    {
     "data": {
      "text/plain": [
       "description     333\n",
       "unit_price      333\n",
       "customer_id     333\n",
       "invoice_no        0\n",
       "quantity          0\n",
       "stock_code        0\n",
       "invoice_date      0\n",
       "country           0\n",
       "dtype: int64"
      ]
     },
     "execution_count": 32,
     "metadata": {},
     "output_type": "execute_result"
    }
   ],
   "source": [
    "df.isna().sum().sort_values(ascending=False)\n"
   ]
  },
  {
   "cell_type": "code",
   "execution_count": 33,
   "id": "d1667508-4648-4635-a425-f9c2a8c5f4b5",
   "metadata": {},
   "outputs": [
    {
     "data": {
      "text/plain": [
       "invoice_no      0\n",
       "stock_code      0\n",
       "description     0\n",
       "quantity        0\n",
       "invoice_date    0\n",
       "unit_price      0\n",
       "customer_id     0\n",
       "country         0\n",
       "dtype: int64"
      ]
     },
     "execution_count": 33,
     "metadata": {},
     "output_type": "execute_result"
    }
   ],
   "source": [
    "df_new.isna().sum()"
   ]
  },
  {
   "cell_type": "code",
   "execution_count": 34,
   "id": "cd8d6660-a468-4b68-b4a9-3a39a0b1fd15",
   "metadata": {},
   "outputs": [
    {
     "name": "stdout",
     "output_type": "stream",
     "text": [
      "<class 'pandas.core.frame.DataFrame'>\n",
      "Index: 99667 entries, 0 to 99999\n",
      "Data columns (total 8 columns):\n",
      " #   Column        Non-Null Count  Dtype         \n",
      "---  ------        --------------  -----         \n",
      " 0   invoice_no    99667 non-null  object        \n",
      " 1   stock_code    99667 non-null  object        \n",
      " 2   description   99667 non-null  object        \n",
      " 3   quantity      99667 non-null  int64         \n",
      " 4   invoice_date  99667 non-null  datetime64[ns]\n",
      " 5   unit_price    99667 non-null  float64       \n",
      " 6   customer_id   99667 non-null  object        \n",
      " 7   country       99667 non-null  object        \n",
      "dtypes: datetime64[ns](1), float64(1), int64(1), object(5)\n",
      "memory usage: 6.8+ MB\n"
     ]
    }
   ],
   "source": [
    "df_new.info()"
   ]
  },
  {
   "cell_type": "code",
   "execution_count": 35,
   "id": "383ad3b6-3c27-4045-ae8b-92153a83704a",
   "metadata": {},
   "outputs": [
    {
     "data": {
      "text/html": [
       "<div>\n",
       "<style scoped>\n",
       "    .dataframe tbody tr th:only-of-type {\n",
       "        vertical-align: middle;\n",
       "    }\n",
       "\n",
       "    .dataframe tbody tr th {\n",
       "        vertical-align: top;\n",
       "    }\n",
       "\n",
       "    .dataframe thead th {\n",
       "        text-align: right;\n",
       "    }\n",
       "</style>\n",
       "<table border=\"1\" class=\"dataframe\">\n",
       "  <thead>\n",
       "    <tr style=\"text-align: right;\">\n",
       "      <th></th>\n",
       "      <th>quantity</th>\n",
       "      <th>invoice_date</th>\n",
       "      <th>unit_price</th>\n",
       "    </tr>\n",
       "  </thead>\n",
       "  <tbody>\n",
       "    <tr>\n",
       "      <th>count</th>\n",
       "      <td>99667.000000</td>\n",
       "      <td>99667</td>\n",
       "      <td>99667.000000</td>\n",
       "    </tr>\n",
       "    <tr>\n",
       "      <th>mean</th>\n",
       "      <td>25.429811</td>\n",
       "      <td>2024-12-15 23:15:11.784241664</td>\n",
       "      <td>52.387386</td>\n",
       "    </tr>\n",
       "    <tr>\n",
       "      <th>min</th>\n",
       "      <td>-49.000000</td>\n",
       "      <td>2024-12-01 00:00:00</td>\n",
       "      <td>-97.890000</td>\n",
       "    </tr>\n",
       "    <tr>\n",
       "      <th>25%</th>\n",
       "      <td>13.000000</td>\n",
       "      <td>2024-12-08 00:00:00</td>\n",
       "      <td>28.790000</td>\n",
       "    </tr>\n",
       "    <tr>\n",
       "      <th>50%</th>\n",
       "      <td>25.000000</td>\n",
       "      <td>2024-12-16 00:00:00</td>\n",
       "      <td>52.210000</td>\n",
       "    </tr>\n",
       "    <tr>\n",
       "      <th>75%</th>\n",
       "      <td>38.000000</td>\n",
       "      <td>2024-12-24 00:00:00</td>\n",
       "      <td>76.230000</td>\n",
       "    </tr>\n",
       "    <tr>\n",
       "      <th>max</th>\n",
       "      <td>50.000000</td>\n",
       "      <td>2024-12-31 00:00:00</td>\n",
       "      <td>100.000000</td>\n",
       "    </tr>\n",
       "    <tr>\n",
       "      <th>std</th>\n",
       "      <td>14.471127</td>\n",
       "      <td>NaN</td>\n",
       "      <td>27.545150</td>\n",
       "    </tr>\n",
       "  </tbody>\n",
       "</table>\n",
       "</div>"
      ],
      "text/plain": [
       "           quantity                   invoice_date    unit_price\n",
       "count  99667.000000                          99667  99667.000000\n",
       "mean      25.429811  2024-12-15 23:15:11.784241664     52.387386\n",
       "min      -49.000000            2024-12-01 00:00:00    -97.890000\n",
       "25%       13.000000            2024-12-08 00:00:00     28.790000\n",
       "50%       25.000000            2024-12-16 00:00:00     52.210000\n",
       "75%       38.000000            2024-12-24 00:00:00     76.230000\n",
       "max       50.000000            2024-12-31 00:00:00    100.000000\n",
       "std       14.471127                            NaN     27.545150"
      ]
     },
     "execution_count": 35,
     "metadata": {},
     "output_type": "execute_result"
    }
   ],
   "source": [
    "df_new.describe()"
   ]
  },
  {
   "cell_type": "markdown",
   "id": "5d289a57-01a8-4c48-8887-a609cfcc4411",
   "metadata": {},
   "source": [
    "# ROUNDING THE VALUES IN DF"
   ]
  },
  {
   "cell_type": "code",
   "execution_count": 36,
   "id": "6ea0b91f-7ff1-4158-abc2-1265a4b9df87",
   "metadata": {},
   "outputs": [
    {
     "data": {
      "text/html": [
       "<div>\n",
       "<style scoped>\n",
       "    .dataframe tbody tr th:only-of-type {\n",
       "        vertical-align: middle;\n",
       "    }\n",
       "\n",
       "    .dataframe tbody tr th {\n",
       "        vertical-align: top;\n",
       "    }\n",
       "\n",
       "    .dataframe thead th {\n",
       "        text-align: right;\n",
       "    }\n",
       "</style>\n",
       "<table border=\"1\" class=\"dataframe\">\n",
       "  <thead>\n",
       "    <tr style=\"text-align: right;\">\n",
       "      <th></th>\n",
       "      <th>quantity</th>\n",
       "      <th>invoice_date</th>\n",
       "      <th>unit_price</th>\n",
       "    </tr>\n",
       "  </thead>\n",
       "  <tbody>\n",
       "    <tr>\n",
       "      <th>count</th>\n",
       "      <td>99667.00</td>\n",
       "      <td>99667</td>\n",
       "      <td>99667.00</td>\n",
       "    </tr>\n",
       "    <tr>\n",
       "      <th>mean</th>\n",
       "      <td>25.43</td>\n",
       "      <td>2024-12-15 23:15:11.784241664</td>\n",
       "      <td>52.39</td>\n",
       "    </tr>\n",
       "    <tr>\n",
       "      <th>min</th>\n",
       "      <td>-49.00</td>\n",
       "      <td>2024-12-01 00:00:00</td>\n",
       "      <td>-97.89</td>\n",
       "    </tr>\n",
       "    <tr>\n",
       "      <th>25%</th>\n",
       "      <td>13.00</td>\n",
       "      <td>2024-12-08 00:00:00</td>\n",
       "      <td>28.79</td>\n",
       "    </tr>\n",
       "    <tr>\n",
       "      <th>50%</th>\n",
       "      <td>25.00</td>\n",
       "      <td>2024-12-16 00:00:00</td>\n",
       "      <td>52.21</td>\n",
       "    </tr>\n",
       "    <tr>\n",
       "      <th>75%</th>\n",
       "      <td>38.00</td>\n",
       "      <td>2024-12-24 00:00:00</td>\n",
       "      <td>76.23</td>\n",
       "    </tr>\n",
       "    <tr>\n",
       "      <th>max</th>\n",
       "      <td>50.00</td>\n",
       "      <td>2024-12-31 00:00:00</td>\n",
       "      <td>100.00</td>\n",
       "    </tr>\n",
       "    <tr>\n",
       "      <th>std</th>\n",
       "      <td>14.47</td>\n",
       "      <td>NaN</td>\n",
       "      <td>27.55</td>\n",
       "    </tr>\n",
       "  </tbody>\n",
       "</table>\n",
       "</div>"
      ],
      "text/plain": [
       "       quantity                   invoice_date  unit_price\n",
       "count  99667.00                          99667    99667.00\n",
       "mean      25.43  2024-12-15 23:15:11.784241664       52.39\n",
       "min      -49.00            2024-12-01 00:00:00      -97.89\n",
       "25%       13.00            2024-12-08 00:00:00       28.79\n",
       "50%       25.00            2024-12-16 00:00:00       52.21\n",
       "75%       38.00            2024-12-24 00:00:00       76.23\n",
       "max       50.00            2024-12-31 00:00:00      100.00\n",
       "std       14.47                            NaN       27.55"
      ]
     },
     "execution_count": 36,
     "metadata": {},
     "output_type": "execute_result"
    }
   ],
   "source": [
    "df_new.describe().round(2)"
   ]
  },
  {
   "cell_type": "markdown",
   "id": "8b3470ae-14f3-4487-8d32-4d640a014cbc",
   "metadata": {},
   "source": [
    "# ADDING COLUMS CALLED AMOUNT SPENT"
   ]
  },
  {
   "cell_type": "code",
   "execution_count": 37,
   "id": "87000e33-e2fc-461b-8cf4-285c2f38f1a6",
   "metadata": {},
   "outputs": [
    {
     "name": "stderr",
     "output_type": "stream",
     "text": [
      "C:\\Users\\sanju\\AppData\\Local\\Temp\\ipykernel_16608\\589928531.py:1: SettingWithCopyWarning: \n",
      "A value is trying to be set on a copy of a slice from a DataFrame.\n",
      "Try using .loc[row_indexer,col_indexer] = value instead\n",
      "\n",
      "See the caveats in the documentation: https://pandas.pydata.org/pandas-docs/stable/user_guide/indexing.html#returning-a-view-versus-a-copy\n",
      "  df_new.loc[:, \"amount_spent\"] = df_new[\"quantity\"] * df_new[\"unit_price\"]\n"
     ]
    }
   ],
   "source": [
    "df_new.loc[:, \"amount_spent\"] = df_new[\"quantity\"] * df_new[\"unit_price\"]\n"
   ]
  },
  {
   "cell_type": "code",
   "execution_count": 38,
   "id": "d41dbdc6-5069-48bc-b36e-97012066fc2e",
   "metadata": {},
   "outputs": [
    {
     "data": {
      "text/html": [
       "<div>\n",
       "<style scoped>\n",
       "    .dataframe tbody tr th:only-of-type {\n",
       "        vertical-align: middle;\n",
       "    }\n",
       "\n",
       "    .dataframe tbody tr th {\n",
       "        vertical-align: top;\n",
       "    }\n",
       "\n",
       "    .dataframe thead th {\n",
       "        text-align: right;\n",
       "    }\n",
       "</style>\n",
       "<table border=\"1\" class=\"dataframe\">\n",
       "  <thead>\n",
       "    <tr style=\"text-align: right;\">\n",
       "      <th></th>\n",
       "      <th>invoice_no</th>\n",
       "      <th>stock_code</th>\n",
       "      <th>description</th>\n",
       "      <th>quantity</th>\n",
       "      <th>invoice_date</th>\n",
       "      <th>unit_price</th>\n",
       "      <th>customer_id</th>\n",
       "      <th>country</th>\n",
       "      <th>amount_spent</th>\n",
       "    </tr>\n",
       "  </thead>\n",
       "  <tbody>\n",
       "    <tr>\n",
       "      <th>0</th>\n",
       "      <td>INV-694015</td>\n",
       "      <td>SC-4038</td>\n",
       "      <td>led lights</td>\n",
       "      <td>46</td>\n",
       "      <td>2024-12-17</td>\n",
       "      <td>52.62</td>\n",
       "      <td>CUST-73316</td>\n",
       "      <td>USA</td>\n",
       "      <td>2420.52</td>\n",
       "    </tr>\n",
       "    <tr>\n",
       "      <th>1</th>\n",
       "      <td>INV-469079</td>\n",
       "      <td>SC-2603</td>\n",
       "      <td>santa hat</td>\n",
       "      <td>27</td>\n",
       "      <td>2024-12-28</td>\n",
       "      <td>98.10</td>\n",
       "      <td>CUST-61708</td>\n",
       "      <td>USA</td>\n",
       "      <td>2648.70</td>\n",
       "    </tr>\n",
       "    <tr>\n",
       "      <th>2</th>\n",
       "      <td>INV-272871</td>\n",
       "      <td>SC-9683</td>\n",
       "      <td>santa hat</td>\n",
       "      <td>7</td>\n",
       "      <td>2024-12-26</td>\n",
       "      <td>94.04</td>\n",
       "      <td>CUST-60546</td>\n",
       "      <td>USA</td>\n",
       "      <td>658.28</td>\n",
       "    </tr>\n",
       "    <tr>\n",
       "      <th>3</th>\n",
       "      <td>INV-748096</td>\n",
       "      <td>SC-4222</td>\n",
       "      <td>christmas tree</td>\n",
       "      <td>10</td>\n",
       "      <td>2024-12-09</td>\n",
       "      <td>80.73</td>\n",
       "      <td>CUST-48419</td>\n",
       "      <td>USA</td>\n",
       "      <td>807.30</td>\n",
       "    </tr>\n",
       "    <tr>\n",
       "      <th>4</th>\n",
       "      <td>INV-162397</td>\n",
       "      <td>SC-1628</td>\n",
       "      <td>christmas tree</td>\n",
       "      <td>46</td>\n",
       "      <td>2024-12-19</td>\n",
       "      <td>62.36</td>\n",
       "      <td>CUST-78370</td>\n",
       "      <td>USA</td>\n",
       "      <td>2868.56</td>\n",
       "    </tr>\n",
       "  </tbody>\n",
       "</table>\n",
       "</div>"
      ],
      "text/plain": [
       "   invoice_no stock_code     description  quantity invoice_date  unit_price  \\\n",
       "0  INV-694015    SC-4038      led lights        46   2024-12-17       52.62   \n",
       "1  INV-469079    SC-2603       santa hat        27   2024-12-28       98.10   \n",
       "2  INV-272871    SC-9683       santa hat         7   2024-12-26       94.04   \n",
       "3  INV-748096    SC-4222  christmas tree        10   2024-12-09       80.73   \n",
       "4  INV-162397    SC-1628  christmas tree        46   2024-12-19       62.36   \n",
       "\n",
       "  customer_id country  amount_spent  \n",
       "0  CUST-73316     USA       2420.52  \n",
       "1  CUST-61708     USA       2648.70  \n",
       "2  CUST-60546     USA        658.28  \n",
       "3  CUST-48419     USA        807.30  \n",
       "4  CUST-78370     USA       2868.56  "
      ]
     },
     "execution_count": 38,
     "metadata": {},
     "output_type": "execute_result"
    }
   ],
   "source": [
    "df_new.head(5)"
   ]
  },
  {
   "cell_type": "code",
   "execution_count": 39,
   "id": "203d18ec-418c-40f0-bc87-0efaf28f8489",
   "metadata": {},
   "outputs": [
    {
     "name": "stdout",
     "output_type": "stream",
     "text": [
      "invoice_no\n",
      "stock_code\n",
      "description\n",
      "quantity\n",
      "invoice_date\n",
      "unit_price\n",
      "customer_id\n",
      "country\n",
      "amount_spent\n"
     ]
    }
   ],
   "source": [
    "for col in df_new.columns:\n",
    "    print(col)"
   ]
  },
  {
   "cell_type": "code",
   "execution_count": 40,
   "id": "5cc1fb86-9a27-4bd2-b98d-db0e2fd70e30",
   "metadata": {},
   "outputs": [
    {
     "name": "stdout",
     "output_type": "stream",
     "text": [
      "<class 'pandas.core.frame.DataFrame'>\n",
      "Index: 99667 entries, 0 to 99999\n",
      "Data columns (total 9 columns):\n",
      " #   Column        Non-Null Count  Dtype         \n",
      "---  ------        --------------  -----         \n",
      " 0   invoice_no    99667 non-null  object        \n",
      " 1   stock_code    99667 non-null  object        \n",
      " 2   description   99667 non-null  object        \n",
      " 3   quantity      99667 non-null  int64         \n",
      " 4   invoice_date  99667 non-null  datetime64[ns]\n",
      " 5   unit_price    99667 non-null  float64       \n",
      " 6   customer_id   99667 non-null  object        \n",
      " 7   country       99667 non-null  object        \n",
      " 8   amount_spent  99667 non-null  float64       \n",
      "dtypes: datetime64[ns](1), float64(2), int64(1), object(5)\n",
      "memory usage: 7.6+ MB\n"
     ]
    }
   ],
   "source": [
    "df_new.info()"
   ]
  },
  {
   "cell_type": "markdown",
   "id": "43c295ff-c454-4e60-b5f3-0f813ea354de",
   "metadata": {},
   "source": [
    "# REMOVING NEGITIVE VALUES IN DATAFRAME"
   ]
  },
  {
   "cell_type": "code",
   "execution_count": 41,
   "id": "9e5f773a-48a7-4e4b-969a-d0b662e3d017",
   "metadata": {},
   "outputs": [],
   "source": [
    "con=df_new.quantity>0\n",
    "df_new=df_new[con]"
   ]
  },
  {
   "cell_type": "code",
   "execution_count": 42,
   "id": "1fb1acb3-5ef3-4b03-aba9-f5fd950346b6",
   "metadata": {},
   "outputs": [
    {
     "data": {
      "text/html": [
       "<div>\n",
       "<style scoped>\n",
       "    .dataframe tbody tr th:only-of-type {\n",
       "        vertical-align: middle;\n",
       "    }\n",
       "\n",
       "    .dataframe tbody tr th {\n",
       "        vertical-align: top;\n",
       "    }\n",
       "\n",
       "    .dataframe thead th {\n",
       "        text-align: right;\n",
       "    }\n",
       "</style>\n",
       "<table border=\"1\" class=\"dataframe\">\n",
       "  <thead>\n",
       "    <tr style=\"text-align: right;\">\n",
       "      <th></th>\n",
       "      <th>quantity</th>\n",
       "      <th>invoice_date</th>\n",
       "      <th>unit_price</th>\n",
       "      <th>amount_spent</th>\n",
       "    </tr>\n",
       "  </thead>\n",
       "  <tbody>\n",
       "    <tr>\n",
       "      <th>count</th>\n",
       "      <td>99617.00</td>\n",
       "      <td>99617</td>\n",
       "      <td>99617.00</td>\n",
       "      <td>99617.00</td>\n",
       "    </tr>\n",
       "    <tr>\n",
       "      <th>mean</th>\n",
       "      <td>25.46</td>\n",
       "      <td>2024-12-15 23:14:33.140126720</td>\n",
       "      <td>52.39</td>\n",
       "      <td>1335.22</td>\n",
       "    </tr>\n",
       "    <tr>\n",
       "      <th>min</th>\n",
       "      <td>1.00</td>\n",
       "      <td>2024-12-01 00:00:00</td>\n",
       "      <td>-97.89</td>\n",
       "      <td>-4596.13</td>\n",
       "    </tr>\n",
       "    <tr>\n",
       "      <th>25%</th>\n",
       "      <td>13.00</td>\n",
       "      <td>2024-12-08 00:00:00</td>\n",
       "      <td>28.79</td>\n",
       "      <td>424.62</td>\n",
       "    </tr>\n",
       "    <tr>\n",
       "      <th>50%</th>\n",
       "      <td>25.00</td>\n",
       "      <td>2024-12-16 00:00:00</td>\n",
       "      <td>52.20</td>\n",
       "      <td>1029.52</td>\n",
       "    </tr>\n",
       "    <tr>\n",
       "      <th>75%</th>\n",
       "      <td>38.00</td>\n",
       "      <td>2024-12-24 00:00:00</td>\n",
       "      <td>76.23</td>\n",
       "      <td>2008.96</td>\n",
       "    </tr>\n",
       "    <tr>\n",
       "      <th>max</th>\n",
       "      <td>50.00</td>\n",
       "      <td>2024-12-31 00:00:00</td>\n",
       "      <td>100.00</td>\n",
       "      <td>4997.00</td>\n",
       "    </tr>\n",
       "    <tr>\n",
       "      <th>std</th>\n",
       "      <td>14.42</td>\n",
       "      <td>NaN</td>\n",
       "      <td>27.55</td>\n",
       "      <td>1107.35</td>\n",
       "    </tr>\n",
       "  </tbody>\n",
       "</table>\n",
       "</div>"
      ],
      "text/plain": [
       "       quantity                   invoice_date  unit_price  amount_spent\n",
       "count  99617.00                          99617    99617.00      99617.00\n",
       "mean      25.46  2024-12-15 23:14:33.140126720       52.39       1335.22\n",
       "min        1.00            2024-12-01 00:00:00      -97.89      -4596.13\n",
       "25%       13.00            2024-12-08 00:00:00       28.79        424.62\n",
       "50%       25.00            2024-12-16 00:00:00       52.20       1029.52\n",
       "75%       38.00            2024-12-24 00:00:00       76.23       2008.96\n",
       "max       50.00            2024-12-31 00:00:00      100.00       4997.00\n",
       "std       14.42                            NaN       27.55       1107.35"
      ]
     },
     "execution_count": 42,
     "metadata": {},
     "output_type": "execute_result"
    }
   ],
   "source": [
    "df_new.describe().round(2)"
   ]
  },
  {
   "cell_type": "code",
   "execution_count": 43,
   "id": "eee5cfa0-7da1-4ddc-b182-058348519482",
   "metadata": {},
   "outputs": [
    {
     "data": {
      "text/html": [
       "<div>\n",
       "<style scoped>\n",
       "    .dataframe tbody tr th:only-of-type {\n",
       "        vertical-align: middle;\n",
       "    }\n",
       "\n",
       "    .dataframe tbody tr th {\n",
       "        vertical-align: top;\n",
       "    }\n",
       "\n",
       "    .dataframe thead th {\n",
       "        text-align: right;\n",
       "    }\n",
       "</style>\n",
       "<table border=\"1\" class=\"dataframe\">\n",
       "  <thead>\n",
       "    <tr style=\"text-align: right;\">\n",
       "      <th></th>\n",
       "      <th>invoice_no</th>\n",
       "      <th>stock_code</th>\n",
       "      <th>description</th>\n",
       "      <th>quantity</th>\n",
       "      <th>invoice_date</th>\n",
       "      <th>unit_price</th>\n",
       "      <th>customer_id</th>\n",
       "      <th>country</th>\n",
       "      <th>amount_spent</th>\n",
       "    </tr>\n",
       "  </thead>\n",
       "  <tbody>\n",
       "    <tr>\n",
       "      <th>0</th>\n",
       "      <td>INV-694015</td>\n",
       "      <td>SC-4038</td>\n",
       "      <td>led lights</td>\n",
       "      <td>46</td>\n",
       "      <td>2024-12-17</td>\n",
       "      <td>52.62</td>\n",
       "      <td>CUST-73316</td>\n",
       "      <td>USA</td>\n",
       "      <td>2420.52</td>\n",
       "    </tr>\n",
       "    <tr>\n",
       "      <th>1</th>\n",
       "      <td>INV-469079</td>\n",
       "      <td>SC-2603</td>\n",
       "      <td>santa hat</td>\n",
       "      <td>27</td>\n",
       "      <td>2024-12-28</td>\n",
       "      <td>98.10</td>\n",
       "      <td>CUST-61708</td>\n",
       "      <td>USA</td>\n",
       "      <td>2648.70</td>\n",
       "    </tr>\n",
       "    <tr>\n",
       "      <th>2</th>\n",
       "      <td>INV-272871</td>\n",
       "      <td>SC-9683</td>\n",
       "      <td>santa hat</td>\n",
       "      <td>7</td>\n",
       "      <td>2024-12-26</td>\n",
       "      <td>94.04</td>\n",
       "      <td>CUST-60546</td>\n",
       "      <td>USA</td>\n",
       "      <td>658.28</td>\n",
       "    </tr>\n",
       "    <tr>\n",
       "      <th>3</th>\n",
       "      <td>INV-748096</td>\n",
       "      <td>SC-4222</td>\n",
       "      <td>christmas tree</td>\n",
       "      <td>10</td>\n",
       "      <td>2024-12-09</td>\n",
       "      <td>80.73</td>\n",
       "      <td>CUST-48419</td>\n",
       "      <td>USA</td>\n",
       "      <td>807.30</td>\n",
       "    </tr>\n",
       "    <tr>\n",
       "      <th>4</th>\n",
       "      <td>INV-162397</td>\n",
       "      <td>SC-1628</td>\n",
       "      <td>christmas tree</td>\n",
       "      <td>46</td>\n",
       "      <td>2024-12-19</td>\n",
       "      <td>62.36</td>\n",
       "      <td>CUST-78370</td>\n",
       "      <td>USA</td>\n",
       "      <td>2868.56</td>\n",
       "    </tr>\n",
       "  </tbody>\n",
       "</table>\n",
       "</div>"
      ],
      "text/plain": [
       "   invoice_no stock_code     description  quantity invoice_date  unit_price  \\\n",
       "0  INV-694015    SC-4038      led lights        46   2024-12-17       52.62   \n",
       "1  INV-469079    SC-2603       santa hat        27   2024-12-28       98.10   \n",
       "2  INV-272871    SC-9683       santa hat         7   2024-12-26       94.04   \n",
       "3  INV-748096    SC-4222  christmas tree        10   2024-12-09       80.73   \n",
       "4  INV-162397    SC-1628  christmas tree        46   2024-12-19       62.36   \n",
       "\n",
       "  customer_id country  amount_spent  \n",
       "0  CUST-73316     USA       2420.52  \n",
       "1  CUST-61708     USA       2648.70  \n",
       "2  CUST-60546     USA        658.28  \n",
       "3  CUST-48419     USA        807.30  \n",
       "4  CUST-78370     USA       2868.56  "
      ]
     },
     "execution_count": 43,
     "metadata": {},
     "output_type": "execute_result"
    }
   ],
   "source": [
    "df_new.head()"
   ]
  },
  {
   "cell_type": "code",
   "execution_count": 44,
   "id": "abc347db-2caa-4ebb-b04a-df5ef193ce31",
   "metadata": {},
   "outputs": [
    {
     "data": {
      "text/plain": [
       "(100000, 8)"
      ]
     },
     "execution_count": 44,
     "metadata": {},
     "output_type": "execute_result"
    }
   ],
   "source": [
    "df.shape"
   ]
  },
  {
   "cell_type": "code",
   "execution_count": 45,
   "id": "b667a891-3242-4c6a-969f-4b30fc74a994",
   "metadata": {},
   "outputs": [
    {
     "data": {
      "text/plain": [
       "(99617, 9)"
      ]
     },
     "execution_count": 45,
     "metadata": {},
     "output_type": "execute_result"
    }
   ],
   "source": [
    "df_new.shape"
   ]
  },
  {
   "cell_type": "markdown",
   "id": "f11a0c66-ddaf-4c7c-b3d7-bb6ca556e3bf",
   "metadata": {},
   "source": [
    "# RE ARRANGING THE COLUMNS FOR READABILITY"
   ]
  },
  {
   "cell_type": "code",
   "execution_count": 46,
   "id": "45302de9-cca1-4538-8f1c-04657e947b5d",
   "metadata": {},
   "outputs": [
    {
     "data": {
      "text/plain": [
       "['invoice_no',\n",
       " 'stock_code',\n",
       " 'description',\n",
       " 'quantity',\n",
       " 'invoice_date',\n",
       " 'unit_price',\n",
       " 'customer_id',\n",
       " 'country',\n",
       " 'amount_spent']"
      ]
     },
     "execution_count": 46,
     "metadata": {},
     "output_type": "execute_result"
    }
   ],
   "source": [
    "col_order=[\"invoice_no\",\"stock_code\",\t\"description\",\t\"quantity\",\"invoice_date\",\t\"unit_price\"\t,\"customer_id\",\"country\",\t\"amount_spent\"]\n",
    "df_new=df_new[col_order]\n",
    "df_new.columns.to_list()"
   ]
  },
  {
   "cell_type": "code",
   "execution_count": 47,
   "id": "e9bd8d42-262e-4b74-89c4-3da4238a2ae3",
   "metadata": {},
   "outputs": [
    {
     "data": {
      "text/html": [
       "<div>\n",
       "<style scoped>\n",
       "    .dataframe tbody tr th:only-of-type {\n",
       "        vertical-align: middle;\n",
       "    }\n",
       "\n",
       "    .dataframe tbody tr th {\n",
       "        vertical-align: top;\n",
       "    }\n",
       "\n",
       "    .dataframe thead th {\n",
       "        text-align: right;\n",
       "    }\n",
       "</style>\n",
       "<table border=\"1\" class=\"dataframe\">\n",
       "  <thead>\n",
       "    <tr style=\"text-align: right;\">\n",
       "      <th></th>\n",
       "      <th>invoice_no</th>\n",
       "      <th>stock_code</th>\n",
       "      <th>description</th>\n",
       "      <th>quantity</th>\n",
       "      <th>invoice_date</th>\n",
       "      <th>unit_price</th>\n",
       "      <th>customer_id</th>\n",
       "      <th>country</th>\n",
       "      <th>amount_spent</th>\n",
       "    </tr>\n",
       "  </thead>\n",
       "  <tbody>\n",
       "    <tr>\n",
       "      <th>0</th>\n",
       "      <td>INV-694015</td>\n",
       "      <td>SC-4038</td>\n",
       "      <td>led lights</td>\n",
       "      <td>46</td>\n",
       "      <td>2024-12-17</td>\n",
       "      <td>52.62</td>\n",
       "      <td>CUST-73316</td>\n",
       "      <td>USA</td>\n",
       "      <td>2420.52</td>\n",
       "    </tr>\n",
       "    <tr>\n",
       "      <th>1</th>\n",
       "      <td>INV-469079</td>\n",
       "      <td>SC-2603</td>\n",
       "      <td>santa hat</td>\n",
       "      <td>27</td>\n",
       "      <td>2024-12-28</td>\n",
       "      <td>98.10</td>\n",
       "      <td>CUST-61708</td>\n",
       "      <td>USA</td>\n",
       "      <td>2648.70</td>\n",
       "    </tr>\n",
       "    <tr>\n",
       "      <th>2</th>\n",
       "      <td>INV-272871</td>\n",
       "      <td>SC-9683</td>\n",
       "      <td>santa hat</td>\n",
       "      <td>7</td>\n",
       "      <td>2024-12-26</td>\n",
       "      <td>94.04</td>\n",
       "      <td>CUST-60546</td>\n",
       "      <td>USA</td>\n",
       "      <td>658.28</td>\n",
       "    </tr>\n",
       "    <tr>\n",
       "      <th>3</th>\n",
       "      <td>INV-748096</td>\n",
       "      <td>SC-4222</td>\n",
       "      <td>christmas tree</td>\n",
       "      <td>10</td>\n",
       "      <td>2024-12-09</td>\n",
       "      <td>80.73</td>\n",
       "      <td>CUST-48419</td>\n",
       "      <td>USA</td>\n",
       "      <td>807.30</td>\n",
       "    </tr>\n",
       "    <tr>\n",
       "      <th>4</th>\n",
       "      <td>INV-162397</td>\n",
       "      <td>SC-1628</td>\n",
       "      <td>christmas tree</td>\n",
       "      <td>46</td>\n",
       "      <td>2024-12-19</td>\n",
       "      <td>62.36</td>\n",
       "      <td>CUST-78370</td>\n",
       "      <td>USA</td>\n",
       "      <td>2868.56</td>\n",
       "    </tr>\n",
       "  </tbody>\n",
       "</table>\n",
       "</div>"
      ],
      "text/plain": [
       "   invoice_no stock_code     description  quantity invoice_date  unit_price  \\\n",
       "0  INV-694015    SC-4038      led lights        46   2024-12-17       52.62   \n",
       "1  INV-469079    SC-2603       santa hat        27   2024-12-28       98.10   \n",
       "2  INV-272871    SC-9683       santa hat         7   2024-12-26       94.04   \n",
       "3  INV-748096    SC-4222  christmas tree        10   2024-12-09       80.73   \n",
       "4  INV-162397    SC-1628  christmas tree        46   2024-12-19       62.36   \n",
       "\n",
       "  customer_id country  amount_spent  \n",
       "0  CUST-73316     USA       2420.52  \n",
       "1  CUST-61708     USA       2648.70  \n",
       "2  CUST-60546     USA        658.28  \n",
       "3  CUST-48419     USA        807.30  \n",
       "4  CUST-78370     USA       2868.56  "
      ]
     },
     "execution_count": 47,
     "metadata": {},
     "output_type": "execute_result"
    }
   ],
   "source": [
    "df_new.head()"
   ]
  },
  {
   "cell_type": "markdown",
   "id": "003ce2ea-4b01-4016-891a-31ca4ab589f5",
   "metadata": {},
   "source": [
    "# ACCESSING INVOICE DATE COLUMN"
   ]
  },
  {
   "cell_type": "code",
   "execution_count": 48,
   "id": "88365cb4-7d0d-46f9-aa74-96e84fe39c10",
   "metadata": {},
   "outputs": [
    {
     "data": {
      "text/plain": [
       "0       2024-12-17\n",
       "1       2024-12-28\n",
       "2       2024-12-26\n",
       "3       2024-12-09\n",
       "4       2024-12-19\n",
       "           ...    \n",
       "99995   2024-12-31\n",
       "99996   2024-12-19\n",
       "99997   2024-12-14\n",
       "99998   2024-12-18\n",
       "99999   2024-12-13\n",
       "Name: invoice_date, Length: 99617, dtype: datetime64[ns]"
      ]
     },
     "execution_count": 48,
     "metadata": {},
     "output_type": "execute_result"
    }
   ],
   "source": [
    "df_new[\"invoice_date\"]"
   ]
  },
  {
   "cell_type": "code",
   "execution_count": 49,
   "id": "3d7fa737-f9f6-415c-bcdb-c4cc9692ade7",
   "metadata": {},
   "outputs": [
    {
     "data": {
      "text/plain": [
       "0       2024-12-17\n",
       "1       2024-12-28\n",
       "2       2024-12-26\n",
       "3       2024-12-09\n",
       "4       2024-12-19\n",
       "           ...    \n",
       "99995   2024-12-31\n",
       "99996   2024-12-19\n",
       "99997   2024-12-14\n",
       "99998   2024-12-18\n",
       "99999   2024-12-13\n",
       "Name: invoice_date, Length: 99617, dtype: datetime64[ns]"
      ]
     },
     "execution_count": 49,
     "metadata": {},
     "output_type": "execute_result"
    }
   ],
   "source": [
    "df_new.invoice_date   #method 2"
   ]
  },
  {
   "cell_type": "markdown",
   "id": "09d06097-d8eb-48c2-8d76-0c1770c2695e",
   "metadata": {},
   "source": [
    "# ACCESSING YEAR VALUE IN INVOICE COLUMN"
   ]
  },
  {
   "cell_type": "code",
   "execution_count": 50,
   "id": "5ae72aef-0606-4880-a476-0e8ea56f886d",
   "metadata": {},
   "outputs": [
    {
     "data": {
      "text/plain": [
       "0        2024\n",
       "1        2024\n",
       "2        2024\n",
       "3        2024\n",
       "4        2024\n",
       "         ... \n",
       "99995    2024\n",
       "99996    2024\n",
       "99997    2024\n",
       "99998    2024\n",
       "99999    2024\n",
       "Name: invoice_date, Length: 99617, dtype: int32"
      ]
     },
     "execution_count": 50,
     "metadata": {},
     "output_type": "execute_result"
    }
   ],
   "source": [
    "df_new[\"invoice_date\"].dt.year"
   ]
  },
  {
   "cell_type": "code",
   "execution_count": 51,
   "id": "743ae91e-c262-4870-b317-96e729d24729",
   "metadata": {},
   "outputs": [
    {
     "data": {
      "text/plain": [
       "0        12\n",
       "1        12\n",
       "2        12\n",
       "3        12\n",
       "4        12\n",
       "         ..\n",
       "99995    12\n",
       "99996    12\n",
       "99997    12\n",
       "99998    12\n",
       "99999    12\n",
       "Name: invoice_date, Length: 99617, dtype: int32"
      ]
     },
     "execution_count": 51,
     "metadata": {},
     "output_type": "execute_result"
    }
   ],
   "source": [
    "df_new[\"invoice_date\"].dt.month"
   ]
  },
  {
   "cell_type": "code",
   "execution_count": 52,
   "id": "7c6d6e8c-7062-4058-969c-0ba84dc2e571",
   "metadata": {},
   "outputs": [
    {
     "data": {
      "text/plain": [
       "0        17\n",
       "1        28\n",
       "2        26\n",
       "3         9\n",
       "4        19\n",
       "         ..\n",
       "99995    31\n",
       "99996    19\n",
       "99997    14\n",
       "99998    18\n",
       "99999    13\n",
       "Name: invoice_date, Length: 99617, dtype: int32"
      ]
     },
     "execution_count": 52,
     "metadata": {},
     "output_type": "execute_result"
    }
   ],
   "source": [
    "df_new[\"invoice_date\"].dt.day"
   ]
  },
  {
   "cell_type": "code",
   "execution_count": 53,
   "id": "21600bbd-9931-4970-b634-cbe86802e62d",
   "metadata": {},
   "outputs": [
    {
     "data": {
      "text/html": [
       "<div>\n",
       "<style scoped>\n",
       "    .dataframe tbody tr th:only-of-type {\n",
       "        vertical-align: middle;\n",
       "    }\n",
       "\n",
       "    .dataframe tbody tr th {\n",
       "        vertical-align: top;\n",
       "    }\n",
       "\n",
       "    .dataframe thead th {\n",
       "        text-align: right;\n",
       "    }\n",
       "</style>\n",
       "<table border=\"1\" class=\"dataframe\">\n",
       "  <thead>\n",
       "    <tr style=\"text-align: right;\">\n",
       "      <th></th>\n",
       "      <th>invoice_no</th>\n",
       "      <th>stock_code</th>\n",
       "      <th>description</th>\n",
       "      <th>quantity</th>\n",
       "      <th>invoice_date</th>\n",
       "      <th>unit_price</th>\n",
       "      <th>customer_id</th>\n",
       "      <th>country</th>\n",
       "      <th>amount_spent</th>\n",
       "    </tr>\n",
       "  </thead>\n",
       "  <tbody>\n",
       "    <tr>\n",
       "      <th>0</th>\n",
       "      <td>INV-694015</td>\n",
       "      <td>SC-4038</td>\n",
       "      <td>led lights</td>\n",
       "      <td>46</td>\n",
       "      <td>2024-12-17</td>\n",
       "      <td>52.62</td>\n",
       "      <td>CUST-73316</td>\n",
       "      <td>USA</td>\n",
       "      <td>2420.52</td>\n",
       "    </tr>\n",
       "    <tr>\n",
       "      <th>1</th>\n",
       "      <td>INV-469079</td>\n",
       "      <td>SC-2603</td>\n",
       "      <td>santa hat</td>\n",
       "      <td>27</td>\n",
       "      <td>2024-12-28</td>\n",
       "      <td>98.10</td>\n",
       "      <td>CUST-61708</td>\n",
       "      <td>USA</td>\n",
       "      <td>2648.70</td>\n",
       "    </tr>\n",
       "    <tr>\n",
       "      <th>2</th>\n",
       "      <td>INV-272871</td>\n",
       "      <td>SC-9683</td>\n",
       "      <td>santa hat</td>\n",
       "      <td>7</td>\n",
       "      <td>2024-12-26</td>\n",
       "      <td>94.04</td>\n",
       "      <td>CUST-60546</td>\n",
       "      <td>USA</td>\n",
       "      <td>658.28</td>\n",
       "    </tr>\n",
       "    <tr>\n",
       "      <th>3</th>\n",
       "      <td>INV-748096</td>\n",
       "      <td>SC-4222</td>\n",
       "      <td>christmas tree</td>\n",
       "      <td>10</td>\n",
       "      <td>2024-12-09</td>\n",
       "      <td>80.73</td>\n",
       "      <td>CUST-48419</td>\n",
       "      <td>USA</td>\n",
       "      <td>807.30</td>\n",
       "    </tr>\n",
       "    <tr>\n",
       "      <th>4</th>\n",
       "      <td>INV-162397</td>\n",
       "      <td>SC-1628</td>\n",
       "      <td>christmas tree</td>\n",
       "      <td>46</td>\n",
       "      <td>2024-12-19</td>\n",
       "      <td>62.36</td>\n",
       "      <td>CUST-78370</td>\n",
       "      <td>USA</td>\n",
       "      <td>2868.56</td>\n",
       "    </tr>\n",
       "  </tbody>\n",
       "</table>\n",
       "</div>"
      ],
      "text/plain": [
       "   invoice_no stock_code     description  quantity invoice_date  unit_price  \\\n",
       "0  INV-694015    SC-4038      led lights        46   2024-12-17       52.62   \n",
       "1  INV-469079    SC-2603       santa hat        27   2024-12-28       98.10   \n",
       "2  INV-272871    SC-9683       santa hat         7   2024-12-26       94.04   \n",
       "3  INV-748096    SC-4222  christmas tree        10   2024-12-09       80.73   \n",
       "4  INV-162397    SC-1628  christmas tree        46   2024-12-19       62.36   \n",
       "\n",
       "  customer_id country  amount_spent  \n",
       "0  CUST-73316     USA       2420.52  \n",
       "1  CUST-61708     USA       2648.70  \n",
       "2  CUST-60546     USA        658.28  \n",
       "3  CUST-48419     USA        807.30  \n",
       "4  CUST-78370     USA       2868.56  "
      ]
     },
     "execution_count": 53,
     "metadata": {},
     "output_type": "execute_result"
    }
   ],
   "source": [
    "df_new.head()"
   ]
  },
  {
   "cell_type": "code",
   "execution_count": 54,
   "id": "fdffcf84-12ed-4da2-aea4-88d89cc1a9e9",
   "metadata": {},
   "outputs": [],
   "source": [
    "c1=\"year_month\""
   ]
  },
  {
   "cell_type": "code",
   "execution_count": 55,
   "id": "d5a8f2fa-5db8-485e-bd93-892a09ecff30",
   "metadata": {},
   "outputs": [],
   "source": [
    "v1=df_new[\"invoice_date\"].map(lambda col:100*(col.year)+col.month)\n",
    "df_new.insert(loc=2,column=c1,value=v1)"
   ]
  },
  {
   "cell_type": "code",
   "execution_count": 56,
   "id": "0aac3526-e04d-45de-9627-3db01d59d85e",
   "metadata": {},
   "outputs": [
    {
     "data": {
      "text/html": [
       "<div>\n",
       "<style scoped>\n",
       "    .dataframe tbody tr th:only-of-type {\n",
       "        vertical-align: middle;\n",
       "    }\n",
       "\n",
       "    .dataframe tbody tr th {\n",
       "        vertical-align: top;\n",
       "    }\n",
       "\n",
       "    .dataframe thead th {\n",
       "        text-align: right;\n",
       "    }\n",
       "</style>\n",
       "<table border=\"1\" class=\"dataframe\">\n",
       "  <thead>\n",
       "    <tr style=\"text-align: right;\">\n",
       "      <th></th>\n",
       "      <th>invoice_no</th>\n",
       "      <th>stock_code</th>\n",
       "      <th>year_month</th>\n",
       "      <th>description</th>\n",
       "      <th>quantity</th>\n",
       "      <th>invoice_date</th>\n",
       "      <th>unit_price</th>\n",
       "      <th>customer_id</th>\n",
       "      <th>country</th>\n",
       "      <th>amount_spent</th>\n",
       "    </tr>\n",
       "  </thead>\n",
       "  <tbody>\n",
       "    <tr>\n",
       "      <th>0</th>\n",
       "      <td>INV-694015</td>\n",
       "      <td>SC-4038</td>\n",
       "      <td>202412</td>\n",
       "      <td>led lights</td>\n",
       "      <td>46</td>\n",
       "      <td>2024-12-17</td>\n",
       "      <td>52.62</td>\n",
       "      <td>CUST-73316</td>\n",
       "      <td>USA</td>\n",
       "      <td>2420.52</td>\n",
       "    </tr>\n",
       "    <tr>\n",
       "      <th>1</th>\n",
       "      <td>INV-469079</td>\n",
       "      <td>SC-2603</td>\n",
       "      <td>202412</td>\n",
       "      <td>santa hat</td>\n",
       "      <td>27</td>\n",
       "      <td>2024-12-28</td>\n",
       "      <td>98.10</td>\n",
       "      <td>CUST-61708</td>\n",
       "      <td>USA</td>\n",
       "      <td>2648.70</td>\n",
       "    </tr>\n",
       "    <tr>\n",
       "      <th>2</th>\n",
       "      <td>INV-272871</td>\n",
       "      <td>SC-9683</td>\n",
       "      <td>202412</td>\n",
       "      <td>santa hat</td>\n",
       "      <td>7</td>\n",
       "      <td>2024-12-26</td>\n",
       "      <td>94.04</td>\n",
       "      <td>CUST-60546</td>\n",
       "      <td>USA</td>\n",
       "      <td>658.28</td>\n",
       "    </tr>\n",
       "    <tr>\n",
       "      <th>3</th>\n",
       "      <td>INV-748096</td>\n",
       "      <td>SC-4222</td>\n",
       "      <td>202412</td>\n",
       "      <td>christmas tree</td>\n",
       "      <td>10</td>\n",
       "      <td>2024-12-09</td>\n",
       "      <td>80.73</td>\n",
       "      <td>CUST-48419</td>\n",
       "      <td>USA</td>\n",
       "      <td>807.30</td>\n",
       "    </tr>\n",
       "    <tr>\n",
       "      <th>4</th>\n",
       "      <td>INV-162397</td>\n",
       "      <td>SC-1628</td>\n",
       "      <td>202412</td>\n",
       "      <td>christmas tree</td>\n",
       "      <td>46</td>\n",
       "      <td>2024-12-19</td>\n",
       "      <td>62.36</td>\n",
       "      <td>CUST-78370</td>\n",
       "      <td>USA</td>\n",
       "      <td>2868.56</td>\n",
       "    </tr>\n",
       "    <tr>\n",
       "      <th>...</th>\n",
       "      <td>...</td>\n",
       "      <td>...</td>\n",
       "      <td>...</td>\n",
       "      <td>...</td>\n",
       "      <td>...</td>\n",
       "      <td>...</td>\n",
       "      <td>...</td>\n",
       "      <td>...</td>\n",
       "      <td>...</td>\n",
       "      <td>...</td>\n",
       "    </tr>\n",
       "    <tr>\n",
       "      <th>99995</th>\n",
       "      <td>INV-918375</td>\n",
       "      <td>SC-4046</td>\n",
       "      <td>202412</td>\n",
       "      <td>gift wrap</td>\n",
       "      <td>4</td>\n",
       "      <td>2024-12-31</td>\n",
       "      <td>50.56</td>\n",
       "      <td>CUST-50152</td>\n",
       "      <td>USA</td>\n",
       "      <td>202.24</td>\n",
       "    </tr>\n",
       "    <tr>\n",
       "      <th>99996</th>\n",
       "      <td>INV-623708</td>\n",
       "      <td>SC-9483</td>\n",
       "      <td>202412</td>\n",
       "      <td>ornaments</td>\n",
       "      <td>7</td>\n",
       "      <td>2024-12-19</td>\n",
       "      <td>55.49</td>\n",
       "      <td>CUST-11412</td>\n",
       "      <td>USA</td>\n",
       "      <td>388.43</td>\n",
       "    </tr>\n",
       "    <tr>\n",
       "      <th>99997</th>\n",
       "      <td>INV-296024</td>\n",
       "      <td>SC-8331</td>\n",
       "      <td>202412</td>\n",
       "      <td>snowman figure</td>\n",
       "      <td>27</td>\n",
       "      <td>2024-12-14</td>\n",
       "      <td>84.92</td>\n",
       "      <td>CUST-89837</td>\n",
       "      <td>USA</td>\n",
       "      <td>2292.84</td>\n",
       "    </tr>\n",
       "    <tr>\n",
       "      <th>99998</th>\n",
       "      <td>INV-250807</td>\n",
       "      <td>SC-7893</td>\n",
       "      <td>202412</td>\n",
       "      <td>gift wrap</td>\n",
       "      <td>34</td>\n",
       "      <td>2024-12-18</td>\n",
       "      <td>67.56</td>\n",
       "      <td>CUST-22213</td>\n",
       "      <td>USA</td>\n",
       "      <td>2297.04</td>\n",
       "    </tr>\n",
       "    <tr>\n",
       "      <th>99999</th>\n",
       "      <td>INV-971958</td>\n",
       "      <td>SC-5497</td>\n",
       "      <td>202412</td>\n",
       "      <td>gift wrap</td>\n",
       "      <td>16</td>\n",
       "      <td>2024-12-13</td>\n",
       "      <td>99.67</td>\n",
       "      <td>CUST-20894</td>\n",
       "      <td>USA</td>\n",
       "      <td>1594.72</td>\n",
       "    </tr>\n",
       "  </tbody>\n",
       "</table>\n",
       "<p>99617 rows × 10 columns</p>\n",
       "</div>"
      ],
      "text/plain": [
       "       invoice_no stock_code  year_month     description  quantity  \\\n",
       "0      INV-694015    SC-4038      202412      led lights        46   \n",
       "1      INV-469079    SC-2603      202412       santa hat        27   \n",
       "2      INV-272871    SC-9683      202412       santa hat         7   \n",
       "3      INV-748096    SC-4222      202412  christmas tree        10   \n",
       "4      INV-162397    SC-1628      202412  christmas tree        46   \n",
       "...           ...        ...         ...             ...       ...   \n",
       "99995  INV-918375    SC-4046      202412       gift wrap         4   \n",
       "99996  INV-623708    SC-9483      202412       ornaments         7   \n",
       "99997  INV-296024    SC-8331      202412  snowman figure        27   \n",
       "99998  INV-250807    SC-7893      202412       gift wrap        34   \n",
       "99999  INV-971958    SC-5497      202412       gift wrap        16   \n",
       "\n",
       "      invoice_date  unit_price customer_id country  amount_spent  \n",
       "0       2024-12-17       52.62  CUST-73316     USA       2420.52  \n",
       "1       2024-12-28       98.10  CUST-61708     USA       2648.70  \n",
       "2       2024-12-26       94.04  CUST-60546     USA        658.28  \n",
       "3       2024-12-09       80.73  CUST-48419     USA        807.30  \n",
       "4       2024-12-19       62.36  CUST-78370     USA       2868.56  \n",
       "...            ...         ...         ...     ...           ...  \n",
       "99995   2024-12-31       50.56  CUST-50152     USA        202.24  \n",
       "99996   2024-12-19       55.49  CUST-11412     USA        388.43  \n",
       "99997   2024-12-14       84.92  CUST-89837     USA       2292.84  \n",
       "99998   2024-12-18       67.56  CUST-22213     USA       2297.04  \n",
       "99999   2024-12-13       99.67  CUST-20894     USA       1594.72  \n",
       "\n",
       "[99617 rows x 10 columns]"
      ]
     },
     "execution_count": 56,
     "metadata": {},
     "output_type": "execute_result"
    }
   ],
   "source": [
    "df_new"
   ]
  },
  {
   "cell_type": "markdown",
   "id": "0277a4bd-d936-423e-8cf1-c97887a14d12",
   "metadata": {},
   "source": [
    "# ADDING MONTH COLUMN TO DF"
   ]
  },
  {
   "cell_type": "code",
   "execution_count": 57,
   "id": "dbd0b39c-013a-4b2d-87ff-72a593beadef",
   "metadata": {},
   "outputs": [],
   "source": [
    "c2=\"month\"\n",
    "v2=df_new.invoice_date.dt.month\n",
    "df_new.insert(loc=3,column=c2,value=v2)"
   ]
  },
  {
   "cell_type": "code",
   "execution_count": 58,
   "id": "fba8051c-5d74-434b-8d89-27aaba1e93e7",
   "metadata": {},
   "outputs": [
    {
     "data": {
      "text/html": [
       "<div>\n",
       "<style scoped>\n",
       "    .dataframe tbody tr th:only-of-type {\n",
       "        vertical-align: middle;\n",
       "    }\n",
       "\n",
       "    .dataframe tbody tr th {\n",
       "        vertical-align: top;\n",
       "    }\n",
       "\n",
       "    .dataframe thead th {\n",
       "        text-align: right;\n",
       "    }\n",
       "</style>\n",
       "<table border=\"1\" class=\"dataframe\">\n",
       "  <thead>\n",
       "    <tr style=\"text-align: right;\">\n",
       "      <th></th>\n",
       "      <th>invoice_no</th>\n",
       "      <th>stock_code</th>\n",
       "      <th>year_month</th>\n",
       "      <th>month</th>\n",
       "      <th>description</th>\n",
       "      <th>quantity</th>\n",
       "      <th>invoice_date</th>\n",
       "      <th>unit_price</th>\n",
       "      <th>customer_id</th>\n",
       "      <th>country</th>\n",
       "      <th>amount_spent</th>\n",
       "    </tr>\n",
       "  </thead>\n",
       "  <tbody>\n",
       "    <tr>\n",
       "      <th>0</th>\n",
       "      <td>INV-694015</td>\n",
       "      <td>SC-4038</td>\n",
       "      <td>202412</td>\n",
       "      <td>12</td>\n",
       "      <td>led lights</td>\n",
       "      <td>46</td>\n",
       "      <td>2024-12-17</td>\n",
       "      <td>52.62</td>\n",
       "      <td>CUST-73316</td>\n",
       "      <td>USA</td>\n",
       "      <td>2420.52</td>\n",
       "    </tr>\n",
       "    <tr>\n",
       "      <th>1</th>\n",
       "      <td>INV-469079</td>\n",
       "      <td>SC-2603</td>\n",
       "      <td>202412</td>\n",
       "      <td>12</td>\n",
       "      <td>santa hat</td>\n",
       "      <td>27</td>\n",
       "      <td>2024-12-28</td>\n",
       "      <td>98.10</td>\n",
       "      <td>CUST-61708</td>\n",
       "      <td>USA</td>\n",
       "      <td>2648.70</td>\n",
       "    </tr>\n",
       "    <tr>\n",
       "      <th>2</th>\n",
       "      <td>INV-272871</td>\n",
       "      <td>SC-9683</td>\n",
       "      <td>202412</td>\n",
       "      <td>12</td>\n",
       "      <td>santa hat</td>\n",
       "      <td>7</td>\n",
       "      <td>2024-12-26</td>\n",
       "      <td>94.04</td>\n",
       "      <td>CUST-60546</td>\n",
       "      <td>USA</td>\n",
       "      <td>658.28</td>\n",
       "    </tr>\n",
       "    <tr>\n",
       "      <th>3</th>\n",
       "      <td>INV-748096</td>\n",
       "      <td>SC-4222</td>\n",
       "      <td>202412</td>\n",
       "      <td>12</td>\n",
       "      <td>christmas tree</td>\n",
       "      <td>10</td>\n",
       "      <td>2024-12-09</td>\n",
       "      <td>80.73</td>\n",
       "      <td>CUST-48419</td>\n",
       "      <td>USA</td>\n",
       "      <td>807.30</td>\n",
       "    </tr>\n",
       "    <tr>\n",
       "      <th>4</th>\n",
       "      <td>INV-162397</td>\n",
       "      <td>SC-1628</td>\n",
       "      <td>202412</td>\n",
       "      <td>12</td>\n",
       "      <td>christmas tree</td>\n",
       "      <td>46</td>\n",
       "      <td>2024-12-19</td>\n",
       "      <td>62.36</td>\n",
       "      <td>CUST-78370</td>\n",
       "      <td>USA</td>\n",
       "      <td>2868.56</td>\n",
       "    </tr>\n",
       "  </tbody>\n",
       "</table>\n",
       "</div>"
      ],
      "text/plain": [
       "   invoice_no stock_code  year_month  month     description  quantity  \\\n",
       "0  INV-694015    SC-4038      202412     12      led lights        46   \n",
       "1  INV-469079    SC-2603      202412     12       santa hat        27   \n",
       "2  INV-272871    SC-9683      202412     12       santa hat         7   \n",
       "3  INV-748096    SC-4222      202412     12  christmas tree        10   \n",
       "4  INV-162397    SC-1628      202412     12  christmas tree        46   \n",
       "\n",
       "  invoice_date  unit_price customer_id country  amount_spent  \n",
       "0   2024-12-17       52.62  CUST-73316     USA       2420.52  \n",
       "1   2024-12-28       98.10  CUST-61708     USA       2648.70  \n",
       "2   2024-12-26       94.04  CUST-60546     USA        658.28  \n",
       "3   2024-12-09       80.73  CUST-48419     USA        807.30  \n",
       "4   2024-12-19       62.36  CUST-78370     USA       2868.56  "
      ]
     },
     "execution_count": 58,
     "metadata": {},
     "output_type": "execute_result"
    }
   ],
   "source": [
    "df_new.head()"
   ]
  },
  {
   "cell_type": "markdown",
   "id": "4249f21e-c119-4221-82d1-38a4665c7dcb",
   "metadata": {},
   "source": [
    "# ADDING DAY IN COLUMN"
   ]
  },
  {
   "cell_type": "code",
   "execution_count": 59,
   "id": "b8ca3691-b00d-4d5e-b67d-f5fc9851edd5",
   "metadata": {},
   "outputs": [],
   "source": [
    "c3=\"day\"\n",
    "v3=df_new.invoice_date.dt.day\n",
    "df_new.insert(loc=4,column=c3,value=v3)\n",
    "\n",
    "              "
   ]
  },
  {
   "cell_type": "code",
   "execution_count": 60,
   "id": "ad550cc7-3ece-417e-a2eb-0c60003279a0",
   "metadata": {},
   "outputs": [
    {
     "data": {
      "text/html": [
       "<div>\n",
       "<style scoped>\n",
       "    .dataframe tbody tr th:only-of-type {\n",
       "        vertical-align: middle;\n",
       "    }\n",
       "\n",
       "    .dataframe tbody tr th {\n",
       "        vertical-align: top;\n",
       "    }\n",
       "\n",
       "    .dataframe thead th {\n",
       "        text-align: right;\n",
       "    }\n",
       "</style>\n",
       "<table border=\"1\" class=\"dataframe\">\n",
       "  <thead>\n",
       "    <tr style=\"text-align: right;\">\n",
       "      <th></th>\n",
       "      <th>invoice_no</th>\n",
       "      <th>stock_code</th>\n",
       "      <th>year_month</th>\n",
       "      <th>month</th>\n",
       "      <th>day</th>\n",
       "      <th>description</th>\n",
       "      <th>quantity</th>\n",
       "      <th>invoice_date</th>\n",
       "      <th>unit_price</th>\n",
       "      <th>customer_id</th>\n",
       "      <th>country</th>\n",
       "      <th>amount_spent</th>\n",
       "    </tr>\n",
       "  </thead>\n",
       "  <tbody>\n",
       "    <tr>\n",
       "      <th>0</th>\n",
       "      <td>INV-694015</td>\n",
       "      <td>SC-4038</td>\n",
       "      <td>202412</td>\n",
       "      <td>12</td>\n",
       "      <td>17</td>\n",
       "      <td>led lights</td>\n",
       "      <td>46</td>\n",
       "      <td>2024-12-17</td>\n",
       "      <td>52.62</td>\n",
       "      <td>CUST-73316</td>\n",
       "      <td>USA</td>\n",
       "      <td>2420.52</td>\n",
       "    </tr>\n",
       "    <tr>\n",
       "      <th>1</th>\n",
       "      <td>INV-469079</td>\n",
       "      <td>SC-2603</td>\n",
       "      <td>202412</td>\n",
       "      <td>12</td>\n",
       "      <td>28</td>\n",
       "      <td>santa hat</td>\n",
       "      <td>27</td>\n",
       "      <td>2024-12-28</td>\n",
       "      <td>98.10</td>\n",
       "      <td>CUST-61708</td>\n",
       "      <td>USA</td>\n",
       "      <td>2648.70</td>\n",
       "    </tr>\n",
       "    <tr>\n",
       "      <th>2</th>\n",
       "      <td>INV-272871</td>\n",
       "      <td>SC-9683</td>\n",
       "      <td>202412</td>\n",
       "      <td>12</td>\n",
       "      <td>26</td>\n",
       "      <td>santa hat</td>\n",
       "      <td>7</td>\n",
       "      <td>2024-12-26</td>\n",
       "      <td>94.04</td>\n",
       "      <td>CUST-60546</td>\n",
       "      <td>USA</td>\n",
       "      <td>658.28</td>\n",
       "    </tr>\n",
       "    <tr>\n",
       "      <th>3</th>\n",
       "      <td>INV-748096</td>\n",
       "      <td>SC-4222</td>\n",
       "      <td>202412</td>\n",
       "      <td>12</td>\n",
       "      <td>9</td>\n",
       "      <td>christmas tree</td>\n",
       "      <td>10</td>\n",
       "      <td>2024-12-09</td>\n",
       "      <td>80.73</td>\n",
       "      <td>CUST-48419</td>\n",
       "      <td>USA</td>\n",
       "      <td>807.30</td>\n",
       "    </tr>\n",
       "    <tr>\n",
       "      <th>4</th>\n",
       "      <td>INV-162397</td>\n",
       "      <td>SC-1628</td>\n",
       "      <td>202412</td>\n",
       "      <td>12</td>\n",
       "      <td>19</td>\n",
       "      <td>christmas tree</td>\n",
       "      <td>46</td>\n",
       "      <td>2024-12-19</td>\n",
       "      <td>62.36</td>\n",
       "      <td>CUST-78370</td>\n",
       "      <td>USA</td>\n",
       "      <td>2868.56</td>\n",
       "    </tr>\n",
       "  </tbody>\n",
       "</table>\n",
       "</div>"
      ],
      "text/plain": [
       "   invoice_no stock_code  year_month  month  day     description  quantity  \\\n",
       "0  INV-694015    SC-4038      202412     12   17      led lights        46   \n",
       "1  INV-469079    SC-2603      202412     12   28       santa hat        27   \n",
       "2  INV-272871    SC-9683      202412     12   26       santa hat         7   \n",
       "3  INV-748096    SC-4222      202412     12    9  christmas tree        10   \n",
       "4  INV-162397    SC-1628      202412     12   19  christmas tree        46   \n",
       "\n",
       "  invoice_date  unit_price customer_id country  amount_spent  \n",
       "0   2024-12-17       52.62  CUST-73316     USA       2420.52  \n",
       "1   2024-12-28       98.10  CUST-61708     USA       2648.70  \n",
       "2   2024-12-26       94.04  CUST-60546     USA        658.28  \n",
       "3   2024-12-09       80.73  CUST-48419     USA        807.30  \n",
       "4   2024-12-19       62.36  CUST-78370     USA       2868.56  "
      ]
     },
     "execution_count": 60,
     "metadata": {},
     "output_type": "execute_result"
    }
   ],
   "source": [
    "df_new.head()"
   ]
  },
  {
   "cell_type": "markdown",
   "id": "9760f49b-9bd4-4303-af5d-9a6beec3c07a",
   "metadata": {},
   "source": [
    "# ADDING YEAR IN COLUMN"
   ]
  },
  {
   "cell_type": "code",
   "execution_count": 61,
   "id": "d0a83576-0c68-430f-987f-806c42755dea",
   "metadata": {},
   "outputs": [
    {
     "data": {
      "text/html": [
       "<div>\n",
       "<style scoped>\n",
       "    .dataframe tbody tr th:only-of-type {\n",
       "        vertical-align: middle;\n",
       "    }\n",
       "\n",
       "    .dataframe tbody tr th {\n",
       "        vertical-align: top;\n",
       "    }\n",
       "\n",
       "    .dataframe thead th {\n",
       "        text-align: right;\n",
       "    }\n",
       "</style>\n",
       "<table border=\"1\" class=\"dataframe\">\n",
       "  <thead>\n",
       "    <tr style=\"text-align: right;\">\n",
       "      <th></th>\n",
       "      <th>invoice_no</th>\n",
       "      <th>stock_code</th>\n",
       "      <th>year_month</th>\n",
       "      <th>month</th>\n",
       "      <th>day</th>\n",
       "      <th>year</th>\n",
       "      <th>description</th>\n",
       "      <th>quantity</th>\n",
       "      <th>invoice_date</th>\n",
       "      <th>unit_price</th>\n",
       "      <th>customer_id</th>\n",
       "      <th>country</th>\n",
       "      <th>amount_spent</th>\n",
       "    </tr>\n",
       "  </thead>\n",
       "  <tbody>\n",
       "    <tr>\n",
       "      <th>0</th>\n",
       "      <td>INV-694015</td>\n",
       "      <td>SC-4038</td>\n",
       "      <td>202412</td>\n",
       "      <td>12</td>\n",
       "      <td>17</td>\n",
       "      <td>2024</td>\n",
       "      <td>led lights</td>\n",
       "      <td>46</td>\n",
       "      <td>2024-12-17</td>\n",
       "      <td>52.62</td>\n",
       "      <td>CUST-73316</td>\n",
       "      <td>USA</td>\n",
       "      <td>2420.52</td>\n",
       "    </tr>\n",
       "    <tr>\n",
       "      <th>1</th>\n",
       "      <td>INV-469079</td>\n",
       "      <td>SC-2603</td>\n",
       "      <td>202412</td>\n",
       "      <td>12</td>\n",
       "      <td>28</td>\n",
       "      <td>2024</td>\n",
       "      <td>santa hat</td>\n",
       "      <td>27</td>\n",
       "      <td>2024-12-28</td>\n",
       "      <td>98.10</td>\n",
       "      <td>CUST-61708</td>\n",
       "      <td>USA</td>\n",
       "      <td>2648.70</td>\n",
       "    </tr>\n",
       "    <tr>\n",
       "      <th>2</th>\n",
       "      <td>INV-272871</td>\n",
       "      <td>SC-9683</td>\n",
       "      <td>202412</td>\n",
       "      <td>12</td>\n",
       "      <td>26</td>\n",
       "      <td>2024</td>\n",
       "      <td>santa hat</td>\n",
       "      <td>7</td>\n",
       "      <td>2024-12-26</td>\n",
       "      <td>94.04</td>\n",
       "      <td>CUST-60546</td>\n",
       "      <td>USA</td>\n",
       "      <td>658.28</td>\n",
       "    </tr>\n",
       "    <tr>\n",
       "      <th>3</th>\n",
       "      <td>INV-748096</td>\n",
       "      <td>SC-4222</td>\n",
       "      <td>202412</td>\n",
       "      <td>12</td>\n",
       "      <td>9</td>\n",
       "      <td>2024</td>\n",
       "      <td>christmas tree</td>\n",
       "      <td>10</td>\n",
       "      <td>2024-12-09</td>\n",
       "      <td>80.73</td>\n",
       "      <td>CUST-48419</td>\n",
       "      <td>USA</td>\n",
       "      <td>807.30</td>\n",
       "    </tr>\n",
       "    <tr>\n",
       "      <th>4</th>\n",
       "      <td>INV-162397</td>\n",
       "      <td>SC-1628</td>\n",
       "      <td>202412</td>\n",
       "      <td>12</td>\n",
       "      <td>19</td>\n",
       "      <td>2024</td>\n",
       "      <td>christmas tree</td>\n",
       "      <td>46</td>\n",
       "      <td>2024-12-19</td>\n",
       "      <td>62.36</td>\n",
       "      <td>CUST-78370</td>\n",
       "      <td>USA</td>\n",
       "      <td>2868.56</td>\n",
       "    </tr>\n",
       "  </tbody>\n",
       "</table>\n",
       "</div>"
      ],
      "text/plain": [
       "   invoice_no stock_code  year_month  month  day  year     description  \\\n",
       "0  INV-694015    SC-4038      202412     12   17  2024      led lights   \n",
       "1  INV-469079    SC-2603      202412     12   28  2024       santa hat   \n",
       "2  INV-272871    SC-9683      202412     12   26  2024       santa hat   \n",
       "3  INV-748096    SC-4222      202412     12    9  2024  christmas tree   \n",
       "4  INV-162397    SC-1628      202412     12   19  2024  christmas tree   \n",
       "\n",
       "   quantity invoice_date  unit_price customer_id country  amount_spent  \n",
       "0        46   2024-12-17       52.62  CUST-73316     USA       2420.52  \n",
       "1        27   2024-12-28       98.10  CUST-61708     USA       2648.70  \n",
       "2         7   2024-12-26       94.04  CUST-60546     USA        658.28  \n",
       "3        10   2024-12-09       80.73  CUST-48419     USA        807.30  \n",
       "4        46   2024-12-19       62.36  CUST-78370     USA       2868.56  "
      ]
     },
     "execution_count": 61,
     "metadata": {},
     "output_type": "execute_result"
    }
   ],
   "source": [
    "c4=\"year\"\n",
    "v4=df_new.invoice_date.dt.year\n",
    "df_new.insert(loc=5,column=c4,value=v4)\n",
    "df_new.head()"
   ]
  },
  {
   "cell_type": "markdown",
   "id": "b45d42f8-9467-4cfd-b594-050b474ecfc8",
   "metadata": {},
   "source": [
    "# ADDING HOUR IN COLUMN"
   ]
  },
  {
   "cell_type": "code",
   "execution_count": 62,
   "id": "27d837d8-56fa-4ce4-b6ff-21ba20d04af6",
   "metadata": {},
   "outputs": [
    {
     "data": {
      "text/html": [
       "<div>\n",
       "<style scoped>\n",
       "    .dataframe tbody tr th:only-of-type {\n",
       "        vertical-align: middle;\n",
       "    }\n",
       "\n",
       "    .dataframe tbody tr th {\n",
       "        vertical-align: top;\n",
       "    }\n",
       "\n",
       "    .dataframe thead th {\n",
       "        text-align: right;\n",
       "    }\n",
       "</style>\n",
       "<table border=\"1\" class=\"dataframe\">\n",
       "  <thead>\n",
       "    <tr style=\"text-align: right;\">\n",
       "      <th></th>\n",
       "      <th>invoice_no</th>\n",
       "      <th>stock_code</th>\n",
       "      <th>year_month</th>\n",
       "      <th>month</th>\n",
       "      <th>day</th>\n",
       "      <th>year</th>\n",
       "      <th>hour</th>\n",
       "      <th>description</th>\n",
       "      <th>quantity</th>\n",
       "      <th>invoice_date</th>\n",
       "      <th>unit_price</th>\n",
       "      <th>customer_id</th>\n",
       "      <th>country</th>\n",
       "      <th>amount_spent</th>\n",
       "    </tr>\n",
       "  </thead>\n",
       "  <tbody>\n",
       "    <tr>\n",
       "      <th>0</th>\n",
       "      <td>INV-694015</td>\n",
       "      <td>SC-4038</td>\n",
       "      <td>202412</td>\n",
       "      <td>12</td>\n",
       "      <td>17</td>\n",
       "      <td>2024</td>\n",
       "      <td>0</td>\n",
       "      <td>led lights</td>\n",
       "      <td>46</td>\n",
       "      <td>2024-12-17</td>\n",
       "      <td>52.62</td>\n",
       "      <td>CUST-73316</td>\n",
       "      <td>USA</td>\n",
       "      <td>2420.52</td>\n",
       "    </tr>\n",
       "    <tr>\n",
       "      <th>1</th>\n",
       "      <td>INV-469079</td>\n",
       "      <td>SC-2603</td>\n",
       "      <td>202412</td>\n",
       "      <td>12</td>\n",
       "      <td>28</td>\n",
       "      <td>2024</td>\n",
       "      <td>0</td>\n",
       "      <td>santa hat</td>\n",
       "      <td>27</td>\n",
       "      <td>2024-12-28</td>\n",
       "      <td>98.10</td>\n",
       "      <td>CUST-61708</td>\n",
       "      <td>USA</td>\n",
       "      <td>2648.70</td>\n",
       "    </tr>\n",
       "    <tr>\n",
       "      <th>2</th>\n",
       "      <td>INV-272871</td>\n",
       "      <td>SC-9683</td>\n",
       "      <td>202412</td>\n",
       "      <td>12</td>\n",
       "      <td>26</td>\n",
       "      <td>2024</td>\n",
       "      <td>0</td>\n",
       "      <td>santa hat</td>\n",
       "      <td>7</td>\n",
       "      <td>2024-12-26</td>\n",
       "      <td>94.04</td>\n",
       "      <td>CUST-60546</td>\n",
       "      <td>USA</td>\n",
       "      <td>658.28</td>\n",
       "    </tr>\n",
       "    <tr>\n",
       "      <th>3</th>\n",
       "      <td>INV-748096</td>\n",
       "      <td>SC-4222</td>\n",
       "      <td>202412</td>\n",
       "      <td>12</td>\n",
       "      <td>9</td>\n",
       "      <td>2024</td>\n",
       "      <td>0</td>\n",
       "      <td>christmas tree</td>\n",
       "      <td>10</td>\n",
       "      <td>2024-12-09</td>\n",
       "      <td>80.73</td>\n",
       "      <td>CUST-48419</td>\n",
       "      <td>USA</td>\n",
       "      <td>807.30</td>\n",
       "    </tr>\n",
       "    <tr>\n",
       "      <th>4</th>\n",
       "      <td>INV-162397</td>\n",
       "      <td>SC-1628</td>\n",
       "      <td>202412</td>\n",
       "      <td>12</td>\n",
       "      <td>19</td>\n",
       "      <td>2024</td>\n",
       "      <td>0</td>\n",
       "      <td>christmas tree</td>\n",
       "      <td>46</td>\n",
       "      <td>2024-12-19</td>\n",
       "      <td>62.36</td>\n",
       "      <td>CUST-78370</td>\n",
       "      <td>USA</td>\n",
       "      <td>2868.56</td>\n",
       "    </tr>\n",
       "  </tbody>\n",
       "</table>\n",
       "</div>"
      ],
      "text/plain": [
       "   invoice_no stock_code  year_month  month  day  year  hour     description  \\\n",
       "0  INV-694015    SC-4038      202412     12   17  2024     0      led lights   \n",
       "1  INV-469079    SC-2603      202412     12   28  2024     0       santa hat   \n",
       "2  INV-272871    SC-9683      202412     12   26  2024     0       santa hat   \n",
       "3  INV-748096    SC-4222      202412     12    9  2024     0  christmas tree   \n",
       "4  INV-162397    SC-1628      202412     12   19  2024     0  christmas tree   \n",
       "\n",
       "   quantity invoice_date  unit_price customer_id country  amount_spent  \n",
       "0        46   2024-12-17       52.62  CUST-73316     USA       2420.52  \n",
       "1        27   2024-12-28       98.10  CUST-61708     USA       2648.70  \n",
       "2         7   2024-12-26       94.04  CUST-60546     USA        658.28  \n",
       "3        10   2024-12-09       80.73  CUST-48419     USA        807.30  \n",
       "4        46   2024-12-19       62.36  CUST-78370     USA       2868.56  "
      ]
     },
     "execution_count": 62,
     "metadata": {},
     "output_type": "execute_result"
    }
   ],
   "source": [
    "c5=\"hour\"\n",
    "v5=df_new.invoice_date.dt.hour\n",
    "df_new.insert(loc=6,column=c5,value=v5)\n",
    "df_new.head()"
   ]
  },
  {
   "cell_type": "code",
   "execution_count": 63,
   "id": "21dea4b2-8945-411e-a7cf-8f4d4dbce369",
   "metadata": {},
   "outputs": [
    {
     "data": {
      "text/plain": [
       "(99617, 14)"
      ]
     },
     "execution_count": 63,
     "metadata": {},
     "output_type": "execute_result"
    }
   ],
   "source": [
    "df_new.shape"
   ]
  },
  {
   "cell_type": "code",
   "execution_count": 64,
   "id": "46282f81-ca72-4d59-9243-32d764ecfb5c",
   "metadata": {},
   "outputs": [
    {
     "name": "stdout",
     "output_type": "stream",
     "text": [
      "invoice_no\n",
      "stock_code\n",
      "year_month\n",
      "month\n",
      "day\n",
      "year\n",
      "hour\n",
      "description\n",
      "quantity\n",
      "invoice_date\n",
      "unit_price\n",
      "customer_id\n",
      "country\n",
      "amount_spent\n"
     ]
    }
   ],
   "source": [
    "for col in df_new.columns:\n",
    "    print(col)"
   ]
  },
  {
   "cell_type": "markdown",
   "id": "b2f4489c-9f48-4245-9cdc-9edd29fb6fdb",
   "metadata": {},
   "source": [
    "# EXPLONATORY DATA ANALYSIS [EDA]"
   ]
  },
  {
   "cell_type": "code",
   "execution_count": 65,
   "id": "f96ed0fb-1ba2-4a19-9fcf-5f519bafb2cb",
   "metadata": {},
   "outputs": [
    {
     "data": {
      "text/html": [
       "<div>\n",
       "<style scoped>\n",
       "    .dataframe tbody tr th:only-of-type {\n",
       "        vertical-align: middle;\n",
       "    }\n",
       "\n",
       "    .dataframe tbody tr th {\n",
       "        vertical-align: top;\n",
       "    }\n",
       "\n",
       "    .dataframe thead th {\n",
       "        text-align: right;\n",
       "    }\n",
       "</style>\n",
       "<table border=\"1\" class=\"dataframe\">\n",
       "  <thead>\n",
       "    <tr style=\"text-align: right;\">\n",
       "      <th></th>\n",
       "      <th>customer_id</th>\n",
       "      <th>country</th>\n",
       "      <th>invoice_no</th>\n",
       "    </tr>\n",
       "  </thead>\n",
       "  <tbody>\n",
       "    <tr>\n",
       "      <th>0</th>\n",
       "      <td>CUST-10001</td>\n",
       "      <td>USA</td>\n",
       "      <td>1</td>\n",
       "    </tr>\n",
       "    <tr>\n",
       "      <th>1</th>\n",
       "      <td>CUST-10003</td>\n",
       "      <td>USA</td>\n",
       "      <td>1</td>\n",
       "    </tr>\n",
       "    <tr>\n",
       "      <th>2</th>\n",
       "      <td>CUST-10004</td>\n",
       "      <td>USA</td>\n",
       "      <td>1</td>\n",
       "    </tr>\n",
       "    <tr>\n",
       "      <th>3</th>\n",
       "      <td>CUST-10005</td>\n",
       "      <td>USA</td>\n",
       "      <td>3</td>\n",
       "    </tr>\n",
       "    <tr>\n",
       "      <th>4</th>\n",
       "      <td>CUST-10007</td>\n",
       "      <td>USA</td>\n",
       "      <td>1</td>\n",
       "    </tr>\n",
       "    <tr>\n",
       "      <th>...</th>\n",
       "      <td>...</td>\n",
       "      <td>...</td>\n",
       "      <td>...</td>\n",
       "    </tr>\n",
       "    <tr>\n",
       "      <th>60270</th>\n",
       "      <td>CUST-99992</td>\n",
       "      <td>USA</td>\n",
       "      <td>1</td>\n",
       "    </tr>\n",
       "    <tr>\n",
       "      <th>60271</th>\n",
       "      <td>CUST-99994</td>\n",
       "      <td>USA</td>\n",
       "      <td>1</td>\n",
       "    </tr>\n",
       "    <tr>\n",
       "      <th>60272</th>\n",
       "      <td>CUST-99996</td>\n",
       "      <td>USA</td>\n",
       "      <td>2</td>\n",
       "    </tr>\n",
       "    <tr>\n",
       "      <th>60273</th>\n",
       "      <td>CUST-99998</td>\n",
       "      <td>USA</td>\n",
       "      <td>1</td>\n",
       "    </tr>\n",
       "    <tr>\n",
       "      <th>60274</th>\n",
       "      <td>CUST-99999</td>\n",
       "      <td>USA</td>\n",
       "      <td>1</td>\n",
       "    </tr>\n",
       "  </tbody>\n",
       "</table>\n",
       "<p>60275 rows × 3 columns</p>\n",
       "</div>"
      ],
      "text/plain": [
       "      customer_id country  invoice_no\n",
       "0      CUST-10001     USA           1\n",
       "1      CUST-10003     USA           1\n",
       "2      CUST-10004     USA           1\n",
       "3      CUST-10005     USA           3\n",
       "4      CUST-10007     USA           1\n",
       "...           ...     ...         ...\n",
       "60270  CUST-99992     USA           1\n",
       "60271  CUST-99994     USA           1\n",
       "60272  CUST-99996     USA           2\n",
       "60273  CUST-99998     USA           1\n",
       "60274  CUST-99999     USA           1\n",
       "\n",
       "[60275 rows x 3 columns]"
      ]
     },
     "execution_count": 65,
     "metadata": {},
     "output_type": "execute_result"
    }
   ],
   "source": [
    "df_new.groupby(by=[\"customer_id\",\"country\"],as_index=False)[\"invoice_no\"].count()\n",
    "               "
   ]
  },
  {
   "cell_type": "markdown",
   "id": "b7e255d9-255b-4d8f-a316-8739b4351ecd",
   "metadata": {},
   "source": [
    "# TOP 5 MOST ORDERS"
   ]
  },
  {
   "cell_type": "code",
   "execution_count": 66,
   "id": "d44d8d0b-6bb7-44e6-9655-3096e2d83eb7",
   "metadata": {},
   "outputs": [],
   "source": [
    "orders=df_new.groupby(by=[\"customer_id\",\"country\",\"description\"],as_index=False)[\"invoice_no\"].count()\n",
    "               "
   ]
  },
  {
   "cell_type": "raw",
   "id": "45e7142d-0812-468a-a7d9-77217630340e",
   "metadata": {},
   "source": [
    "orders"
   ]
  },
  {
   "cell_type": "code",
   "execution_count": 67,
   "id": "16518339-4d19-4c7d-b4d7-a3895357d093",
   "metadata": {},
   "outputs": [
    {
     "data": {
      "text/html": [
       "<div>\n",
       "<style scoped>\n",
       "    .dataframe tbody tr th:only-of-type {\n",
       "        vertical-align: middle;\n",
       "    }\n",
       "\n",
       "    .dataframe tbody tr th {\n",
       "        vertical-align: top;\n",
       "    }\n",
       "\n",
       "    .dataframe thead th {\n",
       "        text-align: right;\n",
       "    }\n",
       "</style>\n",
       "<table border=\"1\" class=\"dataframe\">\n",
       "  <thead>\n",
       "    <tr style=\"text-align: right;\">\n",
       "      <th></th>\n",
       "      <th>customer_id</th>\n",
       "      <th>country</th>\n",
       "      <th>description</th>\n",
       "      <th>invoice_no</th>\n",
       "    </tr>\n",
       "  </thead>\n",
       "  <tbody>\n",
       "    <tr>\n",
       "      <th>26846</th>\n",
       "      <td>CUST-36529</td>\n",
       "      <td>USA</td>\n",
       "      <td>led lights</td>\n",
       "      <td>5</td>\n",
       "    </tr>\n",
       "    <tr>\n",
       "      <th>61916</th>\n",
       "      <td>CUST-71273</td>\n",
       "      <td>USA</td>\n",
       "      <td>gift wrap</td>\n",
       "      <td>4</td>\n",
       "    </tr>\n",
       "    <tr>\n",
       "      <th>69251</th>\n",
       "      <td>CUST-78552</td>\n",
       "      <td>USA</td>\n",
       "      <td>gift wrap</td>\n",
       "      <td>4</td>\n",
       "    </tr>\n",
       "    <tr>\n",
       "      <th>74561</th>\n",
       "      <td>CUST-83863</td>\n",
       "      <td>USA</td>\n",
       "      <td>led lights</td>\n",
       "      <td>4</td>\n",
       "    </tr>\n",
       "    <tr>\n",
       "      <th>68874</th>\n",
       "      <td>CUST-78129</td>\n",
       "      <td>USA</td>\n",
       "      <td>christmas tree</td>\n",
       "      <td>4</td>\n",
       "    </tr>\n",
       "  </tbody>\n",
       "</table>\n",
       "</div>"
      ],
      "text/plain": [
       "      customer_id country     description  invoice_no\n",
       "26846  CUST-36529     USA      led lights           5\n",
       "61916  CUST-71273     USA       gift wrap           4\n",
       "69251  CUST-78552     USA       gift wrap           4\n",
       "74561  CUST-83863     USA      led lights           4\n",
       "68874  CUST-78129     USA  christmas tree           4"
      ]
     },
     "execution_count": 67,
     "metadata": {},
     "output_type": "execute_result"
    }
   ],
   "source": [
    "orders.sort_values(by=\"invoice_no\", ascending=False).head()\n"
   ]
  },
  {
   "cell_type": "markdown",
   "id": "01e68eae-7273-4443-9623-9c58f00bbde2",
   "metadata": {},
   "source": [
    "# HOW MUCH MONEY SPENT BY EACH CUSTOMERS"
   ]
  },
  {
   "cell_type": "code",
   "execution_count": 68,
   "id": "bb61a5e7-490c-44a4-bd2d-d66976ff83ff",
   "metadata": {},
   "outputs": [
    {
     "data": {
      "text/plain": [
       "customer_id  country\n",
       "CUST-10001   USA        2184.30\n",
       "CUST-10003   USA         947.98\n",
       "CUST-10004   USA        2577.00\n",
       "CUST-10005   USA        6296.71\n",
       "CUST-10007   USA         758.88\n",
       "                         ...   \n",
       "CUST-99992   USA         346.00\n",
       "CUST-99994   USA         599.88\n",
       "CUST-99996   USA        4430.53\n",
       "CUST-99998   USA         217.69\n",
       "CUST-99999   USA         339.30\n",
       "Name: amount_spent, Length: 60275, dtype: float64"
      ]
     },
     "execution_count": 68,
     "metadata": {},
     "output_type": "execute_result"
    }
   ],
   "source": [
    "df_new.groupby(by=[\"customer_id\",\"country\"])[\"amount_spent\"].sum()"
   ]
  },
  {
   "cell_type": "markdown",
   "id": "4f762d72-54e6-4c90-92ae-a644b966c744",
   "metadata": {},
   "source": [
    "# TOP 5 MONEY SPENDERS"
   ]
  },
  {
   "cell_type": "code",
   "execution_count": 69,
   "id": "ebd6e654-f817-4b9a-a118-dccfc019ebd3",
   "metadata": {},
   "outputs": [],
   "source": [
    "money_spent = df_new.groupby(by=[\"customer_id\", \"country\",\"description\"], as_index=False)[\"amount_spent\"].sum()\n",
    "\n"
   ]
  },
  {
   "cell_type": "code",
   "execution_count": 70,
   "id": "fa78ae2c-4c7a-47e1-b6d9-90631429737c",
   "metadata": {},
   "outputs": [
    {
     "data": {
      "text/html": [
       "<div>\n",
       "<style scoped>\n",
       "    .dataframe tbody tr th:only-of-type {\n",
       "        vertical-align: middle;\n",
       "    }\n",
       "\n",
       "    .dataframe tbody tr th {\n",
       "        vertical-align: top;\n",
       "    }\n",
       "\n",
       "    .dataframe thead th {\n",
       "        text-align: right;\n",
       "    }\n",
       "</style>\n",
       "<table border=\"1\" class=\"dataframe\">\n",
       "  <thead>\n",
       "    <tr style=\"text-align: right;\">\n",
       "      <th></th>\n",
       "      <th>customer_id</th>\n",
       "      <th>country</th>\n",
       "      <th>description</th>\n",
       "      <th>amount_spent</th>\n",
       "    </tr>\n",
       "  </thead>\n",
       "  <tbody>\n",
       "    <tr>\n",
       "      <th>3653</th>\n",
       "      <td>CUST-13595</td>\n",
       "      <td>USA</td>\n",
       "      <td>christmas tree</td>\n",
       "      <td>10507.93</td>\n",
       "    </tr>\n",
       "    <tr>\n",
       "      <th>35933</th>\n",
       "      <td>CUST-45523</td>\n",
       "      <td>USA</td>\n",
       "      <td>christmas tree</td>\n",
       "      <td>9456.58</td>\n",
       "    </tr>\n",
       "    <tr>\n",
       "      <th>67450</th>\n",
       "      <td>CUST-76735</td>\n",
       "      <td>USA</td>\n",
       "      <td>snowman figure</td>\n",
       "      <td>9300.10</td>\n",
       "    </tr>\n",
       "    <tr>\n",
       "      <th>31211</th>\n",
       "      <td>CUST-40867</td>\n",
       "      <td>USA</td>\n",
       "      <td>ornaments</td>\n",
       "      <td>9060.12</td>\n",
       "    </tr>\n",
       "    <tr>\n",
       "      <th>30759</th>\n",
       "      <td>CUST-40426</td>\n",
       "      <td>USA</td>\n",
       "      <td>ornaments</td>\n",
       "      <td>8916.73</td>\n",
       "    </tr>\n",
       "  </tbody>\n",
       "</table>\n",
       "</div>"
      ],
      "text/plain": [
       "      customer_id country     description  amount_spent\n",
       "3653   CUST-13595     USA  christmas tree      10507.93\n",
       "35933  CUST-45523     USA  christmas tree       9456.58\n",
       "67450  CUST-76735     USA  snowman figure       9300.10\n",
       "31211  CUST-40867     USA       ornaments       9060.12\n",
       "30759  CUST-40426     USA       ornaments       8916.73"
      ]
     },
     "execution_count": 70,
     "metadata": {},
     "output_type": "execute_result"
    }
   ],
   "source": [
    "\n",
    "money_spent.sort_values(by=\"amount_spent\",ascending=False).head()\n",
    "               \n"
   ]
  },
  {
   "cell_type": "markdown",
   "id": "54c36ae9-cdf7-44e5-b079-6ba09086dc65",
   "metadata": {},
   "source": [
    "# HOW MANY ORDERS IN A YEAR\n",
    "\n"
   ]
  },
  {
   "cell_type": "code",
   "execution_count": 71,
   "id": "fa65c1b7-0c1c-43d8-a6cf-c01e7348f2ea",
   "metadata": {},
   "outputs": [
    {
     "data": {
      "text/plain": [
       "invoice_no\n",
       "INV-100009    [2024]\n",
       "INV-100030    [2024]\n",
       "INV-100051    [2024]\n",
       "INV-100079    [2024]\n",
       "INV-100080    [2024]\n",
       "               ...  \n",
       "INV-999935    [2024]\n",
       "INV-999940    [2024]\n",
       "INV-999956    [2024]\n",
       "INV-999958    [2024]\n",
       "INV-999978    [2024]\n",
       "Name: year, Length: 94178, dtype: object"
      ]
     },
     "execution_count": 71,
     "metadata": {},
     "output_type": "execute_result"
    }
   ],
   "source": [
    "df_new.groupby(\"invoice_no\")[\"year\"].unique()"
   ]
  },
  {
   "cell_type": "code",
   "execution_count": 72,
   "id": "0f6d34f9-eca6-4026-9b22-b0e4e5eebbed",
   "metadata": {},
   "outputs": [
    {
     "data": {
      "text/plain": [
       "year\n",
       "[2024]    94178\n",
       "Name: count, dtype: int64"
      ]
     },
     "execution_count": 72,
     "metadata": {},
     "output_type": "execute_result"
    }
   ],
   "source": [
    "df_new.groupby(\"invoice_no\")[\"year\"].unique().value_counts()"
   ]
  },
  {
   "cell_type": "code",
   "execution_count": 73,
   "id": "488a6f2a-b4c1-4c3c-8625-fbf24370a254",
   "metadata": {},
   "outputs": [
    {
     "data": {
      "text/plain": [
       "year\n",
       "[2024]    94178\n",
       "Name: count, dtype: int64"
      ]
     },
     "execution_count": 73,
     "metadata": {},
     "output_type": "execute_result"
    }
   ],
   "source": [
    "df_new.groupby(\"invoice_no\")[\"year\"].unique().value_counts().sort_index()"
   ]
  },
  {
   "cell_type": "markdown",
   "id": "c6d4b577-1be1-40ac-9159-e63fe06f4de5",
   "metadata": {},
   "source": [
    "# HOW MANY ORDERS PER DAY"
   ]
  },
  {
   "cell_type": "code",
   "execution_count": 74,
   "id": "72db57e9-f82f-4418-94ec-15c288bf1b55",
   "metadata": {},
   "outputs": [
    {
     "data": {
      "text/plain": [
       "<pandas.core.groupby.generic.DataFrameGroupBy object at 0x000001B64E903D90>"
      ]
     },
     "execution_count": 74,
     "metadata": {},
     "output_type": "execute_result"
    }
   ],
   "source": [
    "df_new.groupby(\"invoice_no\")"
   ]
  },
  {
   "cell_type": "code",
   "execution_count": 75,
   "id": "8d687174-c299-4beb-b3cc-cb9d0f2ad443",
   "metadata": {},
   "outputs": [
    {
     "data": {
      "text/plain": [
       "<pandas.core.groupby.generic.SeriesGroupBy object at 0x000001B650198B10>"
      ]
     },
     "execution_count": 75,
     "metadata": {},
     "output_type": "execute_result"
    }
   ],
   "source": [
    "df_new.groupby(\"invoice_no\")[\"day\"]"
   ]
  },
  {
   "cell_type": "code",
   "execution_count": 76,
   "id": "dc6f2035-0294-41b4-8581-cdc153202a7a",
   "metadata": {},
   "outputs": [
    {
     "data": {
      "text/plain": [
       "invoice_no\n",
       "INV-100009    [27]\n",
       "INV-100030     [3]\n",
       "INV-100051    [18]\n",
       "INV-100079    [20]\n",
       "INV-100080    [29]\n",
       "              ... \n",
       "INV-999935    [15]\n",
       "INV-999940    [19]\n",
       "INV-999956     [4]\n",
       "INV-999958    [24]\n",
       "INV-999978    [18]\n",
       "Name: day, Length: 94178, dtype: object"
      ]
     },
     "execution_count": 76,
     "metadata": {},
     "output_type": "execute_result"
    }
   ],
   "source": [
    "df_new.groupby(\"invoice_no\")[\"day\"].unique()"
   ]
  },
  {
   "cell_type": "code",
   "execution_count": 77,
   "id": "6d81c236-abcf-419c-b1fd-aa13a9f311c4",
   "metadata": {},
   "outputs": [
    {
     "data": {
      "text/plain": [
       "day\n",
       "[13]        2983\n",
       "[4]         2972\n",
       "[17]        2963\n",
       "[3]         2946\n",
       "[16]        2934\n",
       "            ... \n",
       "[15, 30]       1\n",
       "[2, 22]        1\n",
       "[22, 10]       1\n",
       "[24, 15]       1\n",
       "[2, 26]        1\n",
       "Name: count, Length: 5113, dtype: int64"
      ]
     },
     "execution_count": 77,
     "metadata": {},
     "output_type": "execute_result"
    }
   ],
   "source": [
    "df_new.groupby(\"invoice_no\")[\"day\"].unique().value_counts()"
   ]
  },
  {
   "cell_type": "code",
   "execution_count": 78,
   "id": "c336f6fc-36b0-4e06-9efc-a354fc4ef00e",
   "metadata": {},
   "outputs": [
    {
     "data": {
      "text/plain": [
       "count    99617.000000\n",
       "mean        52.386923\n",
       "std         27.546812\n",
       "min        -97.890000\n",
       "25%         28.790000\n",
       "50%         52.200000\n",
       "75%         76.230000\n",
       "max        100.000000\n",
       "Name: unit_price, dtype: float64"
      ]
     },
     "execution_count": 78,
     "metadata": {},
     "output_type": "execute_result"
    }
   ],
   "source": [
    "df_new.unit_price.describe()"
   ]
  },
  {
   "cell_type": "markdown",
   "id": "0e308955-0351-4240-a281-600f09a9f578",
   "metadata": {},
   "source": [
    "# HOW MANY ORDERS FOR EACH COUNTRY"
   ]
  },
  {
   "cell_type": "code",
   "execution_count": 79,
   "id": "ad2c5fe1-fabb-47cd-ba20-1bc90a4f1d15",
   "metadata": {},
   "outputs": [
    {
     "data": {
      "text/plain": [
       "<pandas.core.groupby.generic.DataFrameGroupBy object at 0x000001B6501A4890>"
      ]
     },
     "execution_count": 79,
     "metadata": {},
     "output_type": "execute_result"
    }
   ],
   "source": [
    "df_new.groupby(\"country\")"
   ]
  },
  {
   "cell_type": "code",
   "execution_count": 80,
   "id": "46948e9e-210a-4d23-b4a0-158146c13180",
   "metadata": {},
   "outputs": [
    {
     "data": {
      "text/plain": [
       "<pandas.core.groupby.generic.SeriesGroupBy object at 0x000001B64E90F150>"
      ]
     },
     "execution_count": 80,
     "metadata": {},
     "output_type": "execute_result"
    }
   ],
   "source": [
    "df_new.groupby(\"country\")[\"invoice_no\"]"
   ]
  },
  {
   "cell_type": "code",
   "execution_count": 81,
   "id": "d6688426-1bd5-41c1-b61e-87086e3febb4",
   "metadata": {},
   "outputs": [
    {
     "data": {
      "text/plain": [
       "country\n",
       "USA    99617\n",
       "Name: invoice_no, dtype: int64"
      ]
     },
     "execution_count": 81,
     "metadata": {},
     "output_type": "execute_result"
    }
   ],
   "source": [
    "df_new.groupby(\"country\")[\"invoice_no\"].count()"
   ]
  },
  {
   "cell_type": "code",
   "execution_count": 82,
   "id": "77ff6f80-804b-4219-ab7f-5b7ee9085295",
   "metadata": {},
   "outputs": [
    {
     "data": {
      "text/plain": [
       "country\n",
       "USA    99617\n",
       "Name: invoice_no, dtype: int64"
      ]
     },
     "execution_count": 82,
     "metadata": {},
     "output_type": "execute_result"
    }
   ],
   "source": [
    "df_new.groupby(\"country\")[\"invoice_no\"].count().sort_values()"
   ]
  },
  {
   "cell_type": "code",
   "execution_count": 83,
   "id": "0b48a991-7a8c-4471-a564-4198285c4afb",
   "metadata": {},
   "outputs": [
    {
     "data": {
      "text/plain": [
       "country\n",
       "USA    99617\n",
       "Name: invoice_no, dtype: int64"
      ]
     },
     "execution_count": 83,
     "metadata": {},
     "output_type": "execute_result"
    }
   ],
   "source": [
    "df_new.groupby(\"country\")[\"invoice_no\"].count().sort_values()"
   ]
  },
  {
   "cell_type": "markdown",
   "id": "98b3fafe-5686-4ce5-9822-0260ca7a0bad",
   "metadata": {},
   "source": [
    "# WHICH COUNTRY HAS SPENT MORE MONEY"
   ]
  },
  {
   "cell_type": "code",
   "execution_count": 84,
   "id": "c4d8c8a6-bf05-49a0-a4a2-3ba8651d704b",
   "metadata": {},
   "outputs": [
    {
     "data": {
      "text/plain": [
       "country\n",
       "USA    1.330110e+08\n",
       "Name: amount_spent, dtype: float64"
      ]
     },
     "execution_count": 84,
     "metadata": {},
     "output_type": "execute_result"
    }
   ],
   "source": [
    "df_new.groupby(\"country\")[\"amount_spent\"].sum().sort_index()"
   ]
  },
  {
   "cell_type": "code",
   "execution_count": null,
   "id": "d3cc5f6a-fae8-4606-b3c0-ccea5cda8666",
   "metadata": {},
   "outputs": [],
   "source": []
  }
 ],
 "metadata": {
  "kernelspec": {
   "display_name": "Python 3 (ipykernel)",
   "language": "python",
   "name": "python3"
  },
  "language_info": {
   "codemirror_mode": {
    "name": "ipython",
    "version": 3
   },
   "file_extension": ".py",
   "mimetype": "text/x-python",
   "name": "python",
   "nbconvert_exporter": "python",
   "pygments_lexer": "ipython3",
   "version": "3.11.9"
  }
 },
 "nbformat": 4,
 "nbformat_minor": 5
}
